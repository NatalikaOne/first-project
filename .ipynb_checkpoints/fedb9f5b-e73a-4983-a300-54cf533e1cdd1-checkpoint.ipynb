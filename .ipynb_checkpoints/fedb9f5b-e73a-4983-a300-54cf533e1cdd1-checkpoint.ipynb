{
 "cells": [
  {
   "cell_type": "markdown",
   "metadata": {
    "toc": true
   },
   "source": [
    "<h1>Содержание<span class=\"tocSkip\"></span></h1>\n",
    "<div class=\"toc\"><ul class=\"toc-item\"><li><span><a href=\"#Подготовка-данных\" data-toc-modified-id=\"Подготовка-данных-1\"><span class=\"toc-item-num\">1&nbsp;&nbsp;</span>Подготовка данных</a></span></li><li><span><a href=\"#Исследование-задачи\" data-toc-modified-id=\"Исследование-задачи-2\"><span class=\"toc-item-num\">2&nbsp;&nbsp;</span>Исследование задачи</a></span><ul class=\"toc-item\"><li><span><a href=\"#Исследование-баланса-классов.\" data-toc-modified-id=\"Исследование-баланса-классов.-2.1\"><span class=\"toc-item-num\">2.1&nbsp;&nbsp;</span>Исследование баланса классов.</a></span></li><li><span><a href=\"#Обучение-моделей-без-учета-дисбаланса.\" data-toc-modified-id=\"Обучение-моделей-без-учета-дисбаланса.-2.2\"><span class=\"toc-item-num\">2.2&nbsp;&nbsp;</span>Обучение моделей без учета дисбаланса.</a></span></li><li><span><a href=\"#Выводы\" data-toc-modified-id=\"Выводы-2.3\"><span class=\"toc-item-num\">2.3&nbsp;&nbsp;</span>Выводы</a></span></li></ul></li><li><span><a href=\"#Борьба-с-дисбалансом\" data-toc-modified-id=\"Борьба-с-дисбалансом-3\"><span class=\"toc-item-num\">3&nbsp;&nbsp;</span>Борьба с дисбалансом</a></span><ul class=\"toc-item\"><li><span><a href=\"#Баланс-классов.\" data-toc-modified-id=\"Баланс-классов.-3.1\"><span class=\"toc-item-num\">3.1&nbsp;&nbsp;</span>Баланс классов.</a></span></li><li><span><a href=\"#Обучениие-моделей-с-учетом-дисбаланса\" data-toc-modified-id=\"Обучениие-моделей-с-учетом-дисбаланса-3.2\"><span class=\"toc-item-num\">3.2&nbsp;&nbsp;</span>Обучениие моделей с учетом дисбаланса</a></span><ul class=\"toc-item\"><li><span><a href=\"#Увеличение-выборки\" data-toc-modified-id=\"Увеличение-выборки-3.2.1\"><span class=\"toc-item-num\">3.2.1&nbsp;&nbsp;</span>Увеличение выборки</a></span></li><li><span><a href=\"#Уменьшение-выборки\" data-toc-modified-id=\"Уменьшение-выборки-3.2.2\"><span class=\"toc-item-num\">3.2.2&nbsp;&nbsp;</span>Уменьшение выборки</a></span></li></ul></li></ul></li><li><span><a href=\"#Тестирование-модели\" data-toc-modified-id=\"Тестирование-модели-4\"><span class=\"toc-item-num\">4&nbsp;&nbsp;</span>Тестирование модели</a></span><ul class=\"toc-item\"><li><span><a href=\"#Тестирование\" data-toc-modified-id=\"Тестирование-4.1\"><span class=\"toc-item-num\">4.1&nbsp;&nbsp;</span>Тестирование</a></span></li><li><span><a href=\"#Метрика-AUC-ROC\" data-toc-modified-id=\"Метрика-AUC-ROC-4.2\"><span class=\"toc-item-num\">4.2&nbsp;&nbsp;</span>Метрика AUC-ROC</a></span></li></ul></li><li><span><a href=\"#Чек-лист-готовности-проекта\" data-toc-modified-id=\"Чек-лист-готовности-проекта-5\"><span class=\"toc-item-num\">5&nbsp;&nbsp;</span>Чек-лист готовности проекта</a></span></li><li><span><a href=\"#Общий-вывод-по-проекту\" data-toc-modified-id=\"Общий-вывод-по-проекту-6\"><span class=\"toc-item-num\">6&nbsp;&nbsp;</span><b>Общий вывод по проекту</b></a></span></li><li><span><a href=\"#Общий-вывод-по-проекту-В2\" data-toc-modified-id=\"Общий-вывод-по-проекту-В2-7\"><span class=\"toc-item-num\">7&nbsp;&nbsp;</span><b>Общий вывод по проекту В2</b></a></span></li><li><span><a href=\"#Общий-вывод-по-проекту-В2\" data-toc-modified-id=\"Общий-вывод-по-проекту-В2-8\"><span class=\"toc-item-num\">8&nbsp;&nbsp;</span><b>Общий вывод по проекту В2</b></a></span></li><li><span><a href=\"#Общий-вывод-по-проекту-В3\" data-toc-modified-id=\"Общий-вывод-по-проекту-В3-9\"><span class=\"toc-item-num\">9&nbsp;&nbsp;</span><b>Общий вывод по проекту В3</b></a></span></li></ul></div>"
   ]
  },
  {
   "cell_type": "markdown",
   "metadata": {},
   "source": [
    "# Отток клиентов"
   ]
  },
  {
   "cell_type": "markdown",
   "metadata": {},
   "source": [
    "Из «Бета-Банка» стали уходить клиенты. Каждый месяц. Немного, но заметно. Банковские маркетологи посчитали: сохранять текущих клиентов дешевле, чем привлекать новых.\n",
    "\n",
    "Нужно спрогнозировать, уйдёт клиент из банка в ближайшее время или нет. Вам предоставлены исторические данные о поведении клиентов и расторжении договоров с банком. \n",
    "\n",
    "Постройте модель с предельно большим значением *F1*-меры. Чтобы сдать проект успешно, нужно довести метрику до 0.59. Проверьте *F1*-меру на тестовой выборке самостоятельно.\n",
    "\n",
    "Дополнительно измеряйте *AUC-ROC*, сравнивайте её значение с *F1*-мерой.\n",
    "\n",
    "Источник данных: [https://www.kaggle.com/barelydedicated/bank-customer-churn-modeling](https://www.kaggle.com/barelydedicated/bank-customer-churn-modeling)"
   ]
  },
  {
   "cell_type": "markdown",
   "metadata": {},
   "source": [
    "## Подготовка данных"
   ]
  },
  {
   "cell_type": "code",
   "execution_count": 60,
   "metadata": {
    "scrolled": true
   },
   "outputs": [],
   "source": [
    "import pandas as pd\n",
    "from sklearn.model_selection import train_test_split\n",
    "from sklearn.linear_model import LogisticRegression\n",
    "from sklearn.ensemble import RandomForestClassifier\n",
    "from sklearn.tree import DecisionTreeClassifier\n",
    "from sklearn.metrics import accuracy_score\n",
    "from sklearn.metrics import mean_absolute_error\n",
    "from sklearn.preprocessing import OrdinalEncoder\n",
    "from sklearn.preprocessing import OneHotEncoder\n",
    "from sklearn.preprocessing import StandardScaler\n",
    "from sklearn.metrics import confusion_matrix\n",
    "from sklearn.metrics import roc_curve \n",
    "import matplotlib.pyplot as plt\n",
    "from sklearn.utils import shuffle\n",
    "from sklearn.metrics import f1_score\n",
    "from sklearn.metrics import roc_auc_score\n",
    "import numpy as np"
   ]
  },
  {
   "cell_type": "code",
   "execution_count": 61,
   "metadata": {},
   "outputs": [
    {
     "data": {
      "text/html": [
       "<div>\n",
       "<style scoped>\n",
       "    .dataframe tbody tr th:only-of-type {\n",
       "        vertical-align: middle;\n",
       "    }\n",
       "\n",
       "    .dataframe tbody tr th {\n",
       "        vertical-align: top;\n",
       "    }\n",
       "\n",
       "    .dataframe thead th {\n",
       "        text-align: right;\n",
       "    }\n",
       "</style>\n",
       "<table border=\"1\" class=\"dataframe\">\n",
       "  <thead>\n",
       "    <tr style=\"text-align: right;\">\n",
       "      <th></th>\n",
       "      <th>RowNumber</th>\n",
       "      <th>CustomerId</th>\n",
       "      <th>Surname</th>\n",
       "      <th>CreditScore</th>\n",
       "      <th>Geography</th>\n",
       "      <th>Gender</th>\n",
       "      <th>Age</th>\n",
       "      <th>Tenure</th>\n",
       "      <th>Balance</th>\n",
       "      <th>NumOfProducts</th>\n",
       "      <th>HasCrCard</th>\n",
       "      <th>IsActiveMember</th>\n",
       "      <th>EstimatedSalary</th>\n",
       "      <th>Exited</th>\n",
       "    </tr>\n",
       "  </thead>\n",
       "  <tbody>\n",
       "    <tr>\n",
       "      <th>0</th>\n",
       "      <td>1</td>\n",
       "      <td>15634602</td>\n",
       "      <td>Hargrave</td>\n",
       "      <td>619</td>\n",
       "      <td>France</td>\n",
       "      <td>Female</td>\n",
       "      <td>42</td>\n",
       "      <td>2.0</td>\n",
       "      <td>0.00</td>\n",
       "      <td>1</td>\n",
       "      <td>1</td>\n",
       "      <td>1</td>\n",
       "      <td>101348.88</td>\n",
       "      <td>1</td>\n",
       "    </tr>\n",
       "    <tr>\n",
       "      <th>1</th>\n",
       "      <td>2</td>\n",
       "      <td>15647311</td>\n",
       "      <td>Hill</td>\n",
       "      <td>608</td>\n",
       "      <td>Spain</td>\n",
       "      <td>Female</td>\n",
       "      <td>41</td>\n",
       "      <td>1.0</td>\n",
       "      <td>83807.86</td>\n",
       "      <td>1</td>\n",
       "      <td>0</td>\n",
       "      <td>1</td>\n",
       "      <td>112542.58</td>\n",
       "      <td>0</td>\n",
       "    </tr>\n",
       "    <tr>\n",
       "      <th>2</th>\n",
       "      <td>3</td>\n",
       "      <td>15619304</td>\n",
       "      <td>Onio</td>\n",
       "      <td>502</td>\n",
       "      <td>France</td>\n",
       "      <td>Female</td>\n",
       "      <td>42</td>\n",
       "      <td>8.0</td>\n",
       "      <td>159660.80</td>\n",
       "      <td>3</td>\n",
       "      <td>1</td>\n",
       "      <td>0</td>\n",
       "      <td>113931.57</td>\n",
       "      <td>1</td>\n",
       "    </tr>\n",
       "    <tr>\n",
       "      <th>3</th>\n",
       "      <td>4</td>\n",
       "      <td>15701354</td>\n",
       "      <td>Boni</td>\n",
       "      <td>699</td>\n",
       "      <td>France</td>\n",
       "      <td>Female</td>\n",
       "      <td>39</td>\n",
       "      <td>1.0</td>\n",
       "      <td>0.00</td>\n",
       "      <td>2</td>\n",
       "      <td>0</td>\n",
       "      <td>0</td>\n",
       "      <td>93826.63</td>\n",
       "      <td>0</td>\n",
       "    </tr>\n",
       "    <tr>\n",
       "      <th>4</th>\n",
       "      <td>5</td>\n",
       "      <td>15737888</td>\n",
       "      <td>Mitchell</td>\n",
       "      <td>850</td>\n",
       "      <td>Spain</td>\n",
       "      <td>Female</td>\n",
       "      <td>43</td>\n",
       "      <td>2.0</td>\n",
       "      <td>125510.82</td>\n",
       "      <td>1</td>\n",
       "      <td>1</td>\n",
       "      <td>1</td>\n",
       "      <td>79084.10</td>\n",
       "      <td>0</td>\n",
       "    </tr>\n",
       "  </tbody>\n",
       "</table>\n",
       "</div>"
      ],
      "text/plain": [
       "   RowNumber  CustomerId   Surname  CreditScore Geography  Gender  Age  \\\n",
       "0          1    15634602  Hargrave          619    France  Female   42   \n",
       "1          2    15647311      Hill          608     Spain  Female   41   \n",
       "2          3    15619304      Onio          502    France  Female   42   \n",
       "3          4    15701354      Boni          699    France  Female   39   \n",
       "4          5    15737888  Mitchell          850     Spain  Female   43   \n",
       "\n",
       "   Tenure    Balance  NumOfProducts  HasCrCard  IsActiveMember  \\\n",
       "0     2.0       0.00              1          1               1   \n",
       "1     1.0   83807.86              1          0               1   \n",
       "2     8.0  159660.80              3          1               0   \n",
       "3     1.0       0.00              2          0               0   \n",
       "4     2.0  125510.82              1          1               1   \n",
       "\n",
       "   EstimatedSalary  Exited  \n",
       "0        101348.88       1  \n",
       "1        112542.58       0  \n",
       "2        113931.57       1  \n",
       "3         93826.63       0  \n",
       "4         79084.10       0  "
      ]
     },
     "execution_count": 61,
     "metadata": {},
     "output_type": "execute_result"
    }
   ],
   "source": [
    "data = pd.read_csv('/datasets/Churn.csv')\n",
    "data.head()"
   ]
  },
  {
   "cell_type": "code",
   "execution_count": 62,
   "metadata": {},
   "outputs": [
    {
     "data": {
      "text/plain": [
       "RowNumber            0\n",
       "CustomerId           0\n",
       "Surname              0\n",
       "CreditScore          0\n",
       "Geography            0\n",
       "Gender               0\n",
       "Age                  0\n",
       "Tenure             909\n",
       "Balance              0\n",
       "NumOfProducts        0\n",
       "HasCrCard            0\n",
       "IsActiveMember       0\n",
       "EstimatedSalary      0\n",
       "Exited               0\n",
       "dtype: int64"
      ]
     },
     "execution_count": 62,
     "metadata": {},
     "output_type": "execute_result"
    }
   ],
   "source": [
    "data.isna().sum() #посмотрим, есть ли пропущенные значения"
   ]
  },
  {
   "cell_type": "markdown",
   "metadata": {},
   "source": [
    "Видно, что в данных присутствуют категориальные признаки, которые необходимо закодировать. Так же в данных есть пропуски, которые необходимо обработать для дальнейшей работы с данными"
   ]
  },
  {
   "cell_type": "code",
   "execution_count": 63,
   "metadata": {},
   "outputs": [],
   "source": [
    "data.fillna(data.median(), inplace=True) #заменим пропуски медианным значением"
   ]
  },
  {
   "cell_type": "code",
   "execution_count": 65,
   "metadata": {},
   "outputs": [
    {
     "data": {
      "text/html": [
       "<div>\n",
       "<style scoped>\n",
       "    .dataframe tbody tr th:only-of-type {\n",
       "        vertical-align: middle;\n",
       "    }\n",
       "\n",
       "    .dataframe tbody tr th {\n",
       "        vertical-align: top;\n",
       "    }\n",
       "\n",
       "    .dataframe thead th {\n",
       "        text-align: right;\n",
       "    }\n",
       "</style>\n",
       "<table border=\"1\" class=\"dataframe\">\n",
       "  <thead>\n",
       "    <tr style=\"text-align: right;\">\n",
       "      <th></th>\n",
       "      <th>CreditScore</th>\n",
       "      <th>Age</th>\n",
       "      <th>Tenure</th>\n",
       "      <th>Balance</th>\n",
       "      <th>NumOfProducts</th>\n",
       "      <th>HasCrCard</th>\n",
       "      <th>IsActiveMember</th>\n",
       "      <th>EstimatedSalary</th>\n",
       "      <th>Exited</th>\n",
       "      <th>Male</th>\n",
       "      <th>Germany</th>\n",
       "      <th>Spain</th>\n",
       "    </tr>\n",
       "  </thead>\n",
       "  <tbody>\n",
       "    <tr>\n",
       "      <th>0</th>\n",
       "      <td>619</td>\n",
       "      <td>42</td>\n",
       "      <td>2.0</td>\n",
       "      <td>0.00</td>\n",
       "      <td>1</td>\n",
       "      <td>1</td>\n",
       "      <td>1</td>\n",
       "      <td>101348.88</td>\n",
       "      <td>1</td>\n",
       "      <td>0</td>\n",
       "      <td>0</td>\n",
       "      <td>0</td>\n",
       "    </tr>\n",
       "    <tr>\n",
       "      <th>1</th>\n",
       "      <td>608</td>\n",
       "      <td>41</td>\n",
       "      <td>1.0</td>\n",
       "      <td>83807.86</td>\n",
       "      <td>1</td>\n",
       "      <td>0</td>\n",
       "      <td>1</td>\n",
       "      <td>112542.58</td>\n",
       "      <td>0</td>\n",
       "      <td>0</td>\n",
       "      <td>0</td>\n",
       "      <td>1</td>\n",
       "    </tr>\n",
       "    <tr>\n",
       "      <th>2</th>\n",
       "      <td>502</td>\n",
       "      <td>42</td>\n",
       "      <td>8.0</td>\n",
       "      <td>159660.80</td>\n",
       "      <td>3</td>\n",
       "      <td>1</td>\n",
       "      <td>0</td>\n",
       "      <td>113931.57</td>\n",
       "      <td>1</td>\n",
       "      <td>0</td>\n",
       "      <td>0</td>\n",
       "      <td>0</td>\n",
       "    </tr>\n",
       "    <tr>\n",
       "      <th>3</th>\n",
       "      <td>699</td>\n",
       "      <td>39</td>\n",
       "      <td>1.0</td>\n",
       "      <td>0.00</td>\n",
       "      <td>2</td>\n",
       "      <td>0</td>\n",
       "      <td>0</td>\n",
       "      <td>93826.63</td>\n",
       "      <td>0</td>\n",
       "      <td>0</td>\n",
       "      <td>0</td>\n",
       "      <td>0</td>\n",
       "    </tr>\n",
       "    <tr>\n",
       "      <th>4</th>\n",
       "      <td>850</td>\n",
       "      <td>43</td>\n",
       "      <td>2.0</td>\n",
       "      <td>125510.82</td>\n",
       "      <td>1</td>\n",
       "      <td>1</td>\n",
       "      <td>1</td>\n",
       "      <td>79084.10</td>\n",
       "      <td>0</td>\n",
       "      <td>0</td>\n",
       "      <td>0</td>\n",
       "      <td>1</td>\n",
       "    </tr>\n",
       "  </tbody>\n",
       "</table>\n",
       "</div>"
      ],
      "text/plain": [
       "   CreditScore  Age  Tenure    Balance  NumOfProducts  HasCrCard  \\\n",
       "0          619   42     2.0       0.00              1          1   \n",
       "1          608   41     1.0   83807.86              1          0   \n",
       "2          502   42     8.0  159660.80              3          1   \n",
       "3          699   39     1.0       0.00              2          0   \n",
       "4          850   43     2.0  125510.82              1          1   \n",
       "\n",
       "   IsActiveMember  EstimatedSalary  Exited  Male  Germany  Spain  \n",
       "0               1        101348.88       1     0        0      0  \n",
       "1               1        112542.58       0     0        0      1  \n",
       "2               0        113931.57       1     0        0      0  \n",
       "3               0         93826.63       0     0        0      0  \n",
       "4               1         79084.10       0     0        0      1  "
      ]
     },
     "execution_count": 65,
     "metadata": {},
     "output_type": "execute_result"
    }
   ],
   "source": [
    "data = data.drop(['RowNumber', 'CustomerId', 'Surname'], axis=1)\n",
    "gender = pd.get_dummies(data['Gender'], columns=['Gender'], drop_first= True) # закодируем данные и уберем первый стоблец\n",
    "geography = pd.get_dummies(data['Geography'], columns=['Geography'], drop_first= True)\n",
    "data.drop([\"Gender\", \"Geography\"], axis=1, inplace=True) # удалим старые столбцы в таблице\n",
    "data = pd.concat([data, gender, geography], axis=1) # соединим столбцы\n",
    "data.head()"
   ]
  },
  {
   "cell_type": "code",
   "execution_count": 66,
   "metadata": {},
   "outputs": [
    {
     "name": "stdout",
     "output_type": "stream",
     "text": [
      "(6000, 11)\n",
      "(2000, 11)\n",
      "(2000, 11)\n"
     ]
    }
   ],
   "source": [
    "target = data['Exited'] #целевой признак\n",
    "features = data.drop(['Exited'] , axis=1) #признаки, по которым идет расчет\n",
    "\n",
    "# разделим выборку на тренировочную, валидационную и тестовую\n",
    "features_train, features_auxiliary, target_train, target_auxiliary = train_test_split(\n",
    "    features, target, test_size=0.4, random_state=12345)\n",
    "features_test, features_valid, target_test, target_valid = train_test_split(\n",
    "    features_auxiliary, target_auxiliary, test_size=0.5, random_state=12345) \n",
    "\n",
    "print(features_train.shape)\n",
    "print(features_valid.shape)"
   ]
  },
  {
   "cell_type": "code",
   "execution_count": 68,
   "metadata": {},
   "outputs": [
    {
     "name": "stdout",
     "output_type": "stream",
     "text": [
      "      CreditScore       Age    Tenure   Balance  NumOfProducts  HasCrCard  \\\n",
      "7479    -0.886751 -0.373192  1.082277  1.232271      -0.891560          1   \n",
      "3411     0.608663 -0.183385  1.082277  0.600563      -0.891560          0   \n",
      "6027     2.052152  0.480939 -0.737696  1.027098       0.830152          0   \n",
      "1247    -1.457915 -1.417129  0.354288 -1.233163       0.830152          1   \n",
      "3716     0.130961 -1.132419 -1.101690  1.140475      -0.891560          0   \n",
      "\n",
      "      IsActiveMember  EstimatedSalary  Male  Germany  Spain  \n",
      "7479               0        -0.187705     1        0      1  \n",
      "3411               0        -0.333945     0        0      0  \n",
      "6027               1         1.503095     1        1      0  \n",
      "1247               0        -1.071061     1        0      0  \n",
      "3716               0         1.524268     0        1      0  \n"
     ]
    }
   ],
   "source": [
    "numeric = ['CreditScore', 'Age', 'Tenure', 'Balance', 'NumOfProducts', 'EstimatedSalary'] #выделим численные призаки\n",
    "\n",
    "scaler = StandardScaler() #стандартизация данных\n",
    "scaler.fit(features_train[numeric])\n",
    "features_train[numeric] = scaler.transform(features_train[numeric])\n",
    "features_valid[numeric] = scaler.transform(features_valid[numeric])\n",
    "features_test[numeric] = scaler.transform(features_test[numeric])\n",
    "pd.options.mode.chained_assignment = None\n",
    "print(features_train.head())"
   ]
  },
  {
   "cell_type": "markdown",
   "metadata": {},
   "source": [
    "**Выводы**\n",
    "\n",
    "Обработала проуски, заменила их минимальным значением. Применила прямое кодирование в столбцах **Gender** и **Geography**, удалила лишние столбцы, соединила результаты кодирования в одну таблицу. \n",
    "\n",
    "Разделила выборки на тренировочную, валидационную и тестовую. Масштабировала данные, чтобы значения были равны по значимости."
   ]
  },
  {
   "cell_type": "markdown",
   "metadata": {},
   "source": [
    "## Исследование задачи"
   ]
  },
  {
   "cell_type": "markdown",
   "metadata": {},
   "source": [
    "### Исследование баланса классов."
   ]
  },
  {
   "cell_type": "code",
   "execution_count": 69,
   "metadata": {},
   "outputs": [
    {
     "data": {
      "text/plain": [
       "<AxesSubplot:title={'center':'Факт ухода клиента'}, ylabel='Exited'>"
      ]
     },
     "execution_count": 69,
     "metadata": {},
     "output_type": "execute_result"
    },
    {
     "data": {
      "image/png": "[encoded data removed]",
      "text/plain": [
       "<Figure size 288x288 with 1 Axes>"
      ]
     },
     "metadata": {},
     "output_type": "display_data"
    }
   ],
   "source": [
    "exited = data.groupby('Exited')['Exited'].count()\n",
    "exited.plot(\n",
    "kind='pie', \n",
    "autopct='%1.1f%%', \n",
    "figsize=(4,4),\n",
    "title = 'Факт ухода клиента',\n",
    "colors=[\"lightgreen\", \"green\"],\n",
    "center = [2,10]\n",
    ")"
   ]
  },
  {
   "cell_type": "markdown",
   "metadata": {},
   "source": [
    "**Вывод:** Исследование баланса классов показало сильный перекос в сторону одного класса. Значит, нам необходимо сбалансировать классы для дальнейшей работы."
   ]
  },
  {
   "cell_type": "markdown",
   "metadata": {},
   "source": [
    "## Борьба с дисбалансом"
   ]
  },
  {
   "cell_type": "markdown",
   "metadata": {},
   "source": [
    "### Баланс классов."
   ]
  },
  {
   "cell_type": "markdown",
   "metadata": {},
   "source": [
    "***Логистическая регрессия***"
   ]
  },
  {
   "cell_type": "code",
   "execution_count": 73,
   "metadata": {},
   "outputs": [
    {
     "name": "stdout",
     "output_type": "stream",
     "text": [
      "F1 лучшей модели: 0.4775086505190312\n",
      "Количество итераций: 100\n",
      "AUC-ROC: 0.7417786112722633\n"
     ]
    }
   ],
   "source": [
    "best_model = None\n",
    "best_iterations = 0\n",
    "best_result = 0\n",
    "for iterations in range(100, 1000, 100):\n",
    "    model = LogisticRegression(random_state=12345, class_weight='balanced', solver='lbfgs', max_iter=iterations)\n",
    "    model.fit(features_train, target_train)\n",
    "    predicted_valid = model.predict(features_valid)\n",
    "    result = f1_score(target_valid, predicted_valid) \n",
    "    if result > best_result:\n",
    "        best_model = model\n",
    "        best_iterations = iterations\n",
    "        best_result = result\n",
    "    \n",
    "print('F1 лучшей модели:', best_result)\n",
    "print('Количество итераций:', best_iterations)   \n",
    "    \n",
    "probabilities_valid = model.predict_proba(features_valid)\n",
    "probabilities_one_valid = probabilities_valid[:, 1]\n",
    "auc_roc = roc_auc_score(target_valid, probabilities_one_valid)\n",
    "print('AUC-ROC:', auc_roc)"
   ]
  },
  {
   "cell_type": "markdown",
   "metadata": {},
   "source": [
    "***Решающее дерево***"
   ]
  },
  {
   "cell_type": "code",
   "execution_count": 74,
   "metadata": {},
   "outputs": [
    {
     "name": "stdout",
     "output_type": "stream",
     "text": [
      "F1 лучшей модели: 0.5809128630705395\n",
      "Глубина лучшей модели: 5\n",
      "AUC-ROC: 0.773781951246569\n"
     ]
    }
   ],
   "source": [
    "best_model = None\n",
    "best_depth = 0\n",
    "best_result = 0\n",
    "for depth in range(1, 10):\n",
    "    model = DecisionTreeClassifier(random_state=12345, class_weight='balanced', max_depth=depth) \n",
    "    model.fit(features_train, target_train) \n",
    "    predicted_valid = model.predict(features_valid) \n",
    "    result = f1_score(target_valid, predicted_valid) \n",
    "    if result > best_result:\n",
    "        best_model = model\n",
    "        best_depth = depth\n",
    "        best_result = result\n",
    "        \n",
    "print('F1 лучшей модели:', best_result)\n",
    "print('Глубина лучшей модели:', best_depth)\n",
    "\n",
    "probabilities_valid = model.predict_proba(features_valid)\n",
    "probabilities_one_valid = probabilities_valid[:, 1]\n",
    "auc_roc = roc_auc_score(target_valid, probabilities_one_valid)\n",
    "print('AUC-ROC:', auc_roc)"
   ]
  },
  {
   "cell_type": "markdown",
   "metadata": {},
   "source": [
    "***Случайный лес***"
   ]
  },
  {
   "cell_type": "code",
   "execution_count": 75,
   "metadata": {},
   "outputs": [
    {
     "name": "stdout",
     "output_type": "stream",
     "text": [
      "F1 лучшей модели: 0.6\n",
      "Количество деревьев: 9\n",
      "Глубина лучшей модели: 8\n",
      "AUC-ROC: 0.8426209503935863\n"
     ]
    }
   ],
   "source": [
    "best_model = None\n",
    "best_est = 0\n",
    "best_depth = 0\n",
    "best_result = 0\n",
    "for est in range(1, 11):\n",
    "    for depth in range(1, 11):\n",
    "        model = RandomForestClassifier(random_state=12345, class_weight='balanced', n_estimators=est, max_depth=depth) \n",
    "        model.fit(features_train, target_train)\n",
    "        predicted_valid = model.predict(features_valid) \n",
    "        result = f1_score(target_valid, predicted_valid) \n",
    "        if result > best_result:\n",
    "            best_model = model \n",
    "            best_est = est\n",
    "            best_depth = depth\n",
    "            best_result = result\n",
    "print(\"F1 лучшей модели:\", best_result)\n",
    "print('Количество деревьев:', best_est)\n",
    "print('Глубина лучшей модели:', best_depth)\n",
    "probabilities_valid = model.predict_proba(features_valid)\n",
    "probabilities_one_valid = probabilities_valid[:, 1]\n",
    "auc_roc = roc_auc_score(target_valid, probabilities_one_valid)\n",
    "print('AUC-ROC:', auc_roc)"
   ]
  },
  {
   "cell_type": "markdown",
   "metadata": {},
   "source": [
    "После применения метода балансировки классов, показатель F1 изменился. Модель ***Случайный лес*** показала себя лучше остальных F1=0.61 Хуже показала себя модель ***Логистическая регрессия***. Если смотреть по метрике **AUC-ROC**, то лучше себя показала тоже модель ***Случайный лес***, AUC-ROC = 0,84."
   ]
  },
  {
   "cell_type": "markdown",
   "metadata": {},
   "source": [
    "### Обучениие моделей с учетом дисбаланса"
   ]
  },
  {
   "cell_type": "markdown",
   "metadata": {},
   "source": [
    "#### Увеличение выборки"
   ]
  },
  {
   "cell_type": "code",
   "execution_count": 76,
   "metadata": {},
   "outputs": [],
   "source": [
    "def upsample(features, target, repeat):\n",
    "    features_zeros = features[target == 0]\n",
    "    features_ones = features[target == 1]\n",
    "    target_zeros = target[target == 0]\n",
    "    target_ones = target[target == 1] #разделим обучающую выборку на отрицательные и положительные объекты\n",
    "\n",
    "    features_upsampled = pd.concat([features_zeros] + [features_ones] * repeat)\n",
    "    target_upsampled = pd.concat([target_zeros] + [target_ones] * repeat) #увеличиваем и пересобираем выборку\n",
    "    \n",
    "    features_upsampled, target_upsampled = shuffle(\n",
    "        features_upsampled, target_upsampled, random_state=12345) #перемешиваем\n",
    "    \n",
    "    return features_upsampled, target_upsampled\n",
    "\n",
    "features_upsampled, target_upsampled = upsample(features_train, target_train, 4)"
   ]
  },
  {
   "cell_type": "code",
   "execution_count": 77,
   "metadata": {},
   "outputs": [
    {
     "data": {
      "text/plain": [
       "0    0.501043\n",
       "1    0.498957\n",
       "Name: Exited, dtype: float64"
      ]
     },
     "execution_count": 77,
     "metadata": {},
     "output_type": "execute_result"
    }
   ],
   "source": [
    "target_upsampled.value_counts(normalize=True) # проверим баланс новых значений"
   ]
  },
  {
   "cell_type": "markdown",
   "metadata": {},
   "source": [
    "***Логистическая регрессия***"
   ]
  },
  {
   "cell_type": "code",
   "execution_count": 78,
   "metadata": {},
   "outputs": [
    {
     "name": "stdout",
     "output_type": "stream",
     "text": [
      "F1 лучшей модели: 0.4775086505190312\n",
      "Количество итераций: 100\n",
      "AUC-ROC: 0.7417486294562348\n"
     ]
    }
   ],
   "source": [
    "best_model = None\n",
    "best_iterations = 0\n",
    "best_result = 0\n",
    "for iterations in range(100, 1000, 100):\n",
    "    model = LogisticRegression(random_state=12345, class_weight='balanced', solver='lbfgs', max_iter=iterations)\n",
    "    model.fit(features_upsampled, target_upsampled)\n",
    "    predicted_valid = model.predict(features_valid)\n",
    "    result = f1_score(target_valid, predicted_valid) \n",
    "    if result > best_result:\n",
    "        best_model = model\n",
    "        best_iterations = iterations\n",
    "        best_result = result\n",
    "    \n",
    "print('F1 лучшей модели:', best_result)\n",
    "print('Количество итераций:', best_iterations)   \n",
    "    \n",
    "probabilities_valid = model.predict_proba(features_valid)\n",
    "probabilities_one_valid = probabilities_valid[:, 1]\n",
    "auc_roc = roc_auc_score(target_valid, probabilities_one_valid)\n",
    "print('AUC-ROC:', auc_roc)"
   ]
  },
  {
   "cell_type": "markdown",
   "metadata": {},
   "source": [
    "***Решающее дерево***"
   ]
  },
  {
   "cell_type": "code",
   "execution_count": 79,
   "metadata": {},
   "outputs": [
    {
     "name": "stdout",
     "output_type": "stream",
     "text": [
      "F1 лучшей модели: 0.5809128630705395\n",
      "Глубина лучшей модели: 5\n",
      "AUC-ROC: 0.6709638104489627\n"
     ]
    }
   ],
   "source": [
    "best_model = None\n",
    "best_depth = 0\n",
    "best_result = 0\n",
    "for depth in range(1, 20):\n",
    "    model = DecisionTreeClassifier(random_state=12345, max_depth=depth) \n",
    "    model.fit(features_upsampled, target_upsampled) \n",
    "    predicted_valid = model.predict(features_valid) \n",
    "    result = f1_score(target_valid, predicted_valid) \n",
    "    if result > best_result:\n",
    "        best_model = model\n",
    "        best_depth = depth\n",
    "        best_result = result\n",
    "        \n",
    "print('F1 лучшей модели:', best_result)\n",
    "print('Глубина лучшей модели:', best_depth)\n",
    "probabilities_valid = model.predict_proba(features_valid)\n",
    "probabilities_one_valid = probabilities_valid[:, 1]\n",
    "auc_roc = roc_auc_score(target_valid, probabilities_one_valid)\n",
    "print('AUC-ROC:', auc_roc)"
   ]
  },
  {
   "cell_type": "markdown",
   "metadata": {},
   "source": [
    "***Случайный лес***"
   ]
  },
  {
   "cell_type": "code",
   "execution_count": 80,
   "metadata": {},
   "outputs": [
    {
     "name": "stdout",
     "output_type": "stream",
     "text": [
      "F1 лучшей модели: 0.6161719549641761\n",
      "Количество деревьев: 10\n",
      "Глубина лучшей модели: 8\n",
      "AUC-ROC: 0.8431006594500435\n"
     ]
    }
   ],
   "source": [
    "best_model = None\n",
    "best_est = 0\n",
    "best_depth = 0\n",
    "best_result = 0\n",
    "for est in range(1, 11):\n",
    "    for depth in range(1, 11):\n",
    "        model = RandomForestClassifier(random_state=12345, n_estimators=est, max_depth=depth) \n",
    "        model.fit(features_upsampled, target_upsampled) \n",
    "        predicted_valid = model.predict(features_valid) \n",
    "        result = f1_score(target_valid, predicted_valid) \n",
    "        if result > best_result:\n",
    "            best_model = model \n",
    "            best_est = est\n",
    "            best_depth = depth\n",
    "            best_result = result\n",
    "print(\"F1 лучшей модели:\", best_result)\n",
    "print('Количество деревьев:', best_est)\n",
    "print('Глубина лучшей модели:', best_depth)\n",
    "probabilities_valid = model.predict_proba(features_valid)\n",
    "probabilities_one_valid = probabilities_valid[:, 1]\n",
    "auc_roc = roc_auc_score(target_valid, probabilities_one_valid)\n",
    "print('AUC-ROC:', auc_roc)"
   ]
  },
  {
   "cell_type": "markdown",
   "metadata": {},
   "source": [
    "Метод ***Увеличения выборки*** показал увеличение показателя F1 для всех моделей. Лучше всего опять оказалась модель ***Случайный лес*** F1=0.61. Хуже всех модель ***Логистическая регрессия***."
   ]
  },
  {
   "cell_type": "markdown",
   "metadata": {},
   "source": [
    "#### Уменьшение выборки"
   ]
  },
  {
   "cell_type": "code",
   "execution_count": 81,
   "metadata": {},
   "outputs": [],
   "source": [
    "def downsample(features, target, fraction):\n",
    "    features_zeros = features[target == 0]\n",
    "    features_ones = features[target == 1]\n",
    "    target_zeros = target[target == 0]\n",
    "    target_ones = target[target == 1]\n",
    "\n",
    "    features_downsampled = pd.concat(\n",
    "        [features_zeros.sample(frac=fraction, random_state=12345)] + [features_ones])\n",
    "    target_downsampled = pd.concat(\n",
    "        [target_zeros.sample(frac=fraction, random_state=12345)] + [target_ones])\n",
    "    \n",
    "    features_downsampled, target_downsampled = shuffle(\n",
    "        features_downsampled, target_downsampled, random_state=12345)\n",
    "    \n",
    "    return features_downsampled, target_downsampled\n",
    "\n",
    "features_downsampled, target_downsampled = downsample(features_train, target_train, 0.25)"
   ]
  },
  {
   "cell_type": "code",
   "execution_count": 82,
   "metadata": {},
   "outputs": [
    {
     "data": {
      "text/plain": [
       "0    0.501043\n",
       "1    0.498957\n",
       "Name: Exited, dtype: float64"
      ]
     },
     "execution_count": 82,
     "metadata": {},
     "output_type": "execute_result"
    }
   ],
   "source": [
    "target_downsampled.value_counts(normalize=True) # проверим баланс новых значений"
   ]
  },
  {
   "cell_type": "markdown",
   "metadata": {},
   "source": [
    "***Логистическая регрессия***"
   ]
  },
  {
   "cell_type": "code",
   "execution_count": 83,
   "metadata": {},
   "outputs": [
    {
     "name": "stdout",
     "output_type": "stream",
     "text": [
      "F1 лучшей модели: 0.48547008547008547\n",
      "Количество итераций: 100\n",
      "AUC-ROC: 0.7412479331285575\n"
     ]
    }
   ],
   "source": [
    "best_model = None\n",
    "best_iterations = 0\n",
    "best_result = 0\n",
    "for iterations in range(100, 1000, 100):\n",
    "    model = LogisticRegression(random_state=12345, solver='lbfgs', max_iter=iterations)\n",
    "    model.fit(features_downsampled, target_downsampled)\n",
    "    predicted_valid = model.predict(features_valid)\n",
    "    result = f1_score(target_valid, predicted_valid) \n",
    "    if result > best_result:\n",
    "        best_model = model\n",
    "        best_iterations = iterations\n",
    "        best_result = result\n",
    "    \n",
    "print('F1 лучшей модели:', best_result)\n",
    "print('Количество итераций:', best_iterations)   \n",
    "    \n",
    "probabilities_valid = model.predict_proba(features_valid)\n",
    "probabilities_one_valid = probabilities_valid[:, 1]\n",
    "auc_roc = roc_auc_score(target_valid, probabilities_one_valid)\n",
    "print('AUC-ROC:', auc_roc)"
   ]
  },
  {
   "cell_type": "markdown",
   "metadata": {},
   "source": [
    "***Решающее дерево***"
   ]
  },
  {
   "cell_type": "code",
   "execution_count": 84,
   "metadata": {},
   "outputs": [
    {
     "name": "stdout",
     "output_type": "stream",
     "text": [
      "F1 лучшей модели: 0.6093264248704664\n",
      "Глубина лучшей модели: 5\n",
      "AUC-ROC: 0.7077814805320572\n"
     ]
    }
   ],
   "source": [
    "best_model = None\n",
    "best_depth = 0\n",
    "best_result = 0\n",
    "for depth in range(1, 20):\n",
    "    model = DecisionTreeClassifier(random_state=12345, max_depth=depth) \n",
    "    model.fit(features_downsampled, target_downsampled)\n",
    "    predicted_valid = model.predict(features_valid) \n",
    "    result = f1_score(target_valid, predicted_valid) \n",
    "    if result > best_result:\n",
    "        best_model = model\n",
    "        best_depth = depth\n",
    "        best_result = result\n",
    "        \n",
    "print('F1 лучшей модели:', best_result)\n",
    "print('Глубина лучшей модели:', best_depth)\n",
    "probabilities_valid = model.predict_proba(features_valid)\n",
    "probabilities_one_valid = probabilities_valid[:, 1]\n",
    "auc_roc = roc_auc_score(target_valid, probabilities_one_valid)\n",
    "print('AUC-ROC:', auc_roc)"
   ]
  },
  {
   "cell_type": "markdown",
   "metadata": {},
   "source": [
    "***Случайный лес***"
   ]
  },
  {
   "cell_type": "code",
   "execution_count": 85,
   "metadata": {},
   "outputs": [
    {
     "name": "stdout",
     "output_type": "stream",
     "text": [
      "F1 лучшей модели: 0.5811182401466545\n",
      "Количество деревьев: 9\n",
      "Глубина лучшей модели: 10\n",
      "AUC-ROC: 0.8345378527922814\n"
     ]
    }
   ],
   "source": [
    "best_model = None\n",
    "best_est = 0\n",
    "best_depth = 0\n",
    "best_result = 0\n",
    "for est in range(1, 11):\n",
    "    for depth in range(1, 11):\n",
    "        model = RandomForestClassifier(random_state=12345, n_estimators=est, max_depth=depth) \n",
    "        model.fit(features_downsampled, target_downsampled)\n",
    "        predicted_valid = model.predict(features_valid) \n",
    "        result = f1_score(target_valid, predicted_valid) \n",
    "        if result > best_result:\n",
    "            best_model = model \n",
    "            best_est = est\n",
    "            best_depth = depth\n",
    "            best_result = result\n",
    "print(\"F1 лучшей модели:\", best_result)\n",
    "print('Количество деревьев:', best_est)\n",
    "print('Глубина лучшей модели:', best_depth)\n",
    "probabilities_valid = model.predict_proba(features_valid)\n",
    "probabilities_one_valid = probabilities_valid[:, 1]\n",
    "auc_roc = roc_auc_score(target_valid, probabilities_one_valid)\n",
    "print('AUC-ROC:', auc_roc)"
   ]
  },
  {
   "cell_type": "markdown",
   "metadata": {},
   "source": [
    "При тестировании моделей с методом ***Уменьшение выборки*** лучше себя показала модель ***Решающее дерево***, F1=0.61, однако AUC-ROC=0.71, что является не самым лучшим вариантом из протестированных моделей.\n",
    "\n",
    "Таким образом, лучшей моделю в моем исследовании стала модель ***Случайный лес*** при использовании метода ***Увеличения выборки***, F1=0.616 при AUC-ROC=0.84."
   ]
  },
  {
   "cell_type": "markdown",
   "metadata": {},
   "source": [
    "## Тестирование модели"
   ]
  },
  {
   "cell_type": "markdown",
   "metadata": {},
   "source": [
    "### Тестирование"
   ]
  },
  {
   "cell_type": "code",
   "execution_count": 86,
   "metadata": {},
   "outputs": [
    {
     "name": "stdout",
     "output_type": "stream",
     "text": [
      "F1: 0.6014568158168574\n"
     ]
    }
   ],
   "source": [
    "model = RandomForestClassifier(random_state=12345, n_estimators=10, max_depth=8) \n",
    "model.fit(features_upsampled, target_upsampled)\n",
    "predicted = model.predict(features_test) \n",
    "print(\"F1:\", f1_score(target_test, predicted))"
   ]
  },
  {
   "cell_type": "markdown",
   "metadata": {},
   "source": [
    "При тестировании модели на тестовой выборке результат оказался близким, F1=0.6."
   ]
  },
  {
   "cell_type": "markdown",
   "metadata": {},
   "source": [
    "### Метрика AUC-ROC"
   ]
  },
  {
   "cell_type": "code",
   "execution_count": 87,
   "metadata": {},
   "outputs": [
    {
     "name": "stdout",
     "output_type": "stream",
     "text": [
      "0.8531093391857838\n"
     ]
    }
   ],
   "source": [
    "probabilities_valid = model.predict_proba(features_valid)\n",
    "probabilities_one_valid = probabilities_valid[:, 1]\n",
    "\n",
    "auc_roc = roc_auc_score(target_valid, probabilities_one_valid)\n",
    "print(auc_roc)"
   ]
  },
  {
   "cell_type": "code",
   "execution_count": 88,
   "metadata": {},
   "outputs": [
    {
     "data": {
      "image/png": "[encoded data removed]",
      "text/plain": [
       "<Figure size 432x288 with 1 Axes>"
      ]
     },
     "metadata": {
      "needs_background": "light"
     },
     "output_type": "display_data"
    }
   ],
   "source": [
    "fpr, tpr, thresholds = roc_curve(target_valid, probabilities_valid[:, 1]) \n",
    "\n",
    "# < построим график >\n",
    "plt.figure()\n",
    "plt.plot(fpr, tpr)\n",
    "\n",
    "# ROC-кривая случайной модели (выглядит как прямая)\n",
    "plt.plot([0, 1], [0, 1], linestyle='--')\n",
    "\n",
    "#   установим границы осей от 0 до 1 >\n",
    "plt.xlim([0.0, 1.0])\n",
    "plt.ylim([0.0, 1.0])\n",
    "\n",
    "#   подпишем оси \"False Positive Rate\" и \"True Positive Rate\" >\n",
    "plt.xlabel('False Positive Rate')\n",
    "plt.ylabel('True Positive Rate')\n",
    "\n",
    "# < добавим к графику заголовок \"ROC-кривая\" функцией plt.title() >\n",
    "plt.title(label='ROC-кривая')\n",
    "plt.show()"
   ]
  },
  {
   "cell_type": "markdown",
   "metadata": {},
   "source": [
    "ROC-кривая показывает хорошее качество модели, а значение площади под графиком AUC-ROC = 0.85, что сильно превышает AUC-ROC случайной модели. Это говорит о том, что модель можно использовать для прогнозирования оттока клиентов из банка."
   ]
  },
  {
   "cell_type": "markdown",
   "metadata": {},
   "source": [
    "**ВЫВОД**"
   ]
  },
  {
   "cell_type": "markdown",
   "metadata": {},
   "source": [
    "В ходе исследования были обработаны и подготовленны данные, разделены на три выборки, проведена стандартизация данных.\n",
    "\n",
    "Был выявлен дисбаланс данных 20.4 к 79.6. \n",
    "Для балансировки данных были использованы три метода:\n",
    "1. Метод class_weight='balanced'. \n",
    "2. Метод Увеличения выборки. \n",
    "3. Метод Уменьшения выборки. \n",
    "Результаты исследования представленны в таблице:\n",
    "\n",
    "| Модель              | Логистическая регрессия | Решающее дерево | Случайный лес |   |\n",
    "|---------------------|:-----------------------:|:---------------:|:-------------:|---|\n",
    "| Несбалансированная  |           0.27          |       0.53      |     0.53      |   |\n",
    "| class_weight        |           0.48          |       0.58      |      0.60     |   |\n",
    "| Увеличение  выборки |           0.48          |       0.58      |     0.61      |   |\n",
    "| Уменьшение  выборки |           0.49          |      0.608      |      0.58     |   |\n",
    "\n",
    "Таким образом, лучшей моделью оказалась модель ***Случайный лес*** с F1=0.616. А значение AUC-ROC этой модели = 0.85, что сильно превышает AUC-ROC случайной модели. Это говорит о том, что эту модель можно использовать для прогнозирования оттока клиентов из банка."
   ]
  },
  {
   "cell_type": "code",
   "execution_count": null,
   "metadata": {},
   "outputs": [],
   "source": []
  }
 ],
 "metadata": {
  "ExecuteTimeLog": [
   {
    "duration": 1215,
    "start_time": "2023-01-24T17:42:45.820Z"
   },
   {
    "duration": 11,
    "start_time": "2023-01-24T17:44:51.807Z"
   },
   {
    "duration": 1225,
    "start_time": "2023-01-25T18:41:03.486Z"
   },
   {
    "duration": 180,
    "start_time": "2023-01-25T18:41:04.713Z"
   },
   {
    "duration": 9,
    "start_time": "2023-01-25T18:41:04.895Z"
   },
   {
    "duration": 8,
    "start_time": "2023-01-25T18:41:11.120Z"
   },
   {
    "duration": 10,
    "start_time": "2023-01-25T18:41:15.463Z"
   },
   {
    "duration": 11,
    "start_time": "2023-01-25T18:41:26.952Z"
   },
   {
    "duration": 36,
    "start_time": "2023-01-25T18:41:46.318Z"
   },
   {
    "duration": 1763,
    "start_time": "2023-01-25T18:45:02.611Z"
   },
   {
    "duration": 47,
    "start_time": "2023-01-25T18:45:20.889Z"
   },
   {
    "duration": 15,
    "start_time": "2023-01-25T18:45:23.465Z"
   },
   {
    "duration": 2,
    "start_time": "2023-01-25T18:50:41.805Z"
   },
   {
    "duration": 47,
    "start_time": "2023-01-25T18:50:45.571Z"
   },
   {
    "duration": 16,
    "start_time": "2023-01-25T18:50:59.729Z"
   },
   {
    "duration": 11,
    "start_time": "2023-01-25T18:53:50.628Z"
   },
   {
    "duration": 10,
    "start_time": "2023-01-25T18:58:07.456Z"
   },
   {
    "duration": 4,
    "start_time": "2023-01-25T18:58:35.555Z"
   },
   {
    "duration": 11,
    "start_time": "2023-01-25T18:58:46.395Z"
   },
   {
    "duration": 6,
    "start_time": "2023-01-25T18:58:53.006Z"
   },
   {
    "duration": 32,
    "start_time": "2023-01-25T18:59:22.518Z"
   },
   {
    "duration": 9,
    "start_time": "2023-01-25T18:59:26.802Z"
   },
   {
    "duration": 46,
    "start_time": "2023-01-25T18:59:41.899Z"
   },
   {
    "duration": 44,
    "start_time": "2023-01-25T19:00:58.394Z"
   },
   {
    "duration": 8,
    "start_time": "2023-01-25T19:01:20.093Z"
   },
   {
    "duration": 42,
    "start_time": "2023-01-25T19:03:31.724Z"
   },
   {
    "duration": 11,
    "start_time": "2023-01-25T19:08:29.555Z"
   },
   {
    "duration": 47,
    "start_time": "2023-01-25T19:08:35.294Z"
   },
   {
    "duration": 49,
    "start_time": "2023-01-25T19:08:44.695Z"
   },
   {
    "duration": 8,
    "start_time": "2023-01-25T19:08:44.747Z"
   },
   {
    "duration": 6,
    "start_time": "2023-01-25T19:08:44.757Z"
   },
   {
    "duration": 53,
    "start_time": "2023-01-25T19:08:44.764Z"
   },
   {
    "duration": 7,
    "start_time": "2023-01-25T19:08:44.819Z"
   },
   {
    "duration": 26,
    "start_time": "2023-01-25T19:08:44.827Z"
   },
   {
    "duration": 7,
    "start_time": "2023-01-25T19:08:50.773Z"
   },
   {
    "duration": 47,
    "start_time": "2023-01-25T19:08:55.830Z"
   },
   {
    "duration": 10,
    "start_time": "2023-01-25T19:08:58.118Z"
   },
   {
    "duration": 7,
    "start_time": "2023-01-25T19:09:00.166Z"
   },
   {
    "duration": 48,
    "start_time": "2023-01-25T19:09:01.315Z"
   },
   {
    "duration": 6,
    "start_time": "2023-01-25T19:09:03.055Z"
   },
   {
    "duration": 10,
    "start_time": "2023-01-25T19:09:05.375Z"
   },
   {
    "duration": 13,
    "start_time": "2023-01-25T19:09:26.272Z"
   },
   {
    "duration": 13,
    "start_time": "2023-01-25T19:09:28.895Z"
   },
   {
    "duration": 23,
    "start_time": "2023-01-25T19:10:01.410Z"
   },
   {
    "duration": 9,
    "start_time": "2023-01-25T19:10:18.310Z"
   },
   {
    "duration": 14,
    "start_time": "2023-01-25T19:10:28.881Z"
   },
   {
    "duration": 19,
    "start_time": "2023-01-25T19:12:03.975Z"
   },
   {
    "duration": 14,
    "start_time": "2023-01-25T19:12:17.195Z"
   },
   {
    "duration": 15,
    "start_time": "2023-01-25T19:12:29.397Z"
   },
   {
    "duration": 15,
    "start_time": "2023-01-25T19:12:31.661Z"
   },
   {
    "duration": 17,
    "start_time": "2023-01-25T19:18:32.291Z"
   },
   {
    "duration": 1398,
    "start_time": "2023-01-26T18:34:59.998Z"
   },
   {
    "duration": 8,
    "start_time": "2023-01-26T18:35:01.398Z"
   },
   {
    "duration": 38,
    "start_time": "2023-01-26T18:35:01.408Z"
   },
   {
    "duration": 58,
    "start_time": "2023-01-26T18:35:01.448Z"
   },
   {
    "duration": 8,
    "start_time": "2023-01-26T18:35:01.508Z"
   },
   {
    "duration": 170,
    "start_time": "2023-01-26T18:35:01.517Z"
   },
   {
    "duration": 16,
    "start_time": "2023-01-26T18:35:08.807Z"
   },
   {
    "duration": 7,
    "start_time": "2023-01-26T18:35:14.840Z"
   },
   {
    "duration": 16,
    "start_time": "2023-01-26T18:35:19.874Z"
   },
   {
    "duration": 1485,
    "start_time": "2023-01-28T07:14:56.531Z"
   },
   {
    "duration": 6,
    "start_time": "2023-01-28T07:14:58.018Z"
   },
   {
    "duration": 6,
    "start_time": "2023-01-28T07:14:58.025Z"
   },
   {
    "duration": 48,
    "start_time": "2023-01-28T07:14:58.032Z"
   },
   {
    "duration": 8,
    "start_time": "2023-01-28T07:14:58.082Z"
   },
   {
    "duration": 24,
    "start_time": "2023-01-28T07:14:58.091Z"
   },
   {
    "duration": 102,
    "start_time": "2023-01-28T07:30:05.436Z"
   },
   {
    "duration": 49,
    "start_time": "2023-01-28T07:45:20.643Z"
   },
   {
    "duration": 7,
    "start_time": "2023-01-28T07:45:20.694Z"
   },
   {
    "duration": 17,
    "start_time": "2023-01-28T07:45:20.704Z"
   },
   {
    "duration": 65,
    "start_time": "2023-01-28T07:45:20.723Z"
   },
   {
    "duration": 7,
    "start_time": "2023-01-28T07:45:20.791Z"
   },
   {
    "duration": 23,
    "start_time": "2023-01-28T07:45:20.799Z"
   },
   {
    "duration": 155,
    "start_time": "2023-01-28T07:45:20.824Z"
   },
   {
    "duration": 2,
    "start_time": "2023-01-28T07:45:21.068Z"
   },
   {
    "duration": 2,
    "start_time": "2023-01-28T07:46:50.130Z"
   },
   {
    "duration": 2,
    "start_time": "2023-01-28T07:46:53.630Z"
   },
   {
    "duration": 108,
    "start_time": "2023-01-28T07:56:59.463Z"
   },
   {
    "duration": 9,
    "start_time": "2023-01-28T07:57:28.425Z"
   },
   {
    "duration": 57,
    "start_time": "2023-01-28T08:04:33.184Z"
   },
   {
    "duration": 9,
    "start_time": "2023-01-28T08:04:33.243Z"
   },
   {
    "duration": 5,
    "start_time": "2023-01-28T08:04:33.254Z"
   },
   {
    "duration": 62,
    "start_time": "2023-01-28T08:04:33.261Z"
   },
   {
    "duration": 8,
    "start_time": "2023-01-28T08:04:33.325Z"
   },
   {
    "duration": 35,
    "start_time": "2023-01-28T08:04:33.334Z"
   },
   {
    "duration": 98,
    "start_time": "2023-01-28T08:04:33.371Z"
   },
   {
    "duration": 135,
    "start_time": "2023-01-28T08:04:33.471Z"
   },
   {
    "duration": 83,
    "start_time": "2023-01-28T08:04:36.990Z"
   },
   {
    "duration": 3133,
    "start_time": "2023-01-28T08:07:33.629Z"
   },
   {
    "duration": 3250,
    "start_time": "2023-01-28T08:07:45.592Z"
   },
   {
    "duration": 1132,
    "start_time": "2023-01-28T08:09:09.639Z"
   },
   {
    "duration": 60,
    "start_time": "2023-01-28T13:04:28.601Z"
   },
   {
    "duration": 1302,
    "start_time": "2023-01-28T13:06:05.000Z"
   },
   {
    "duration": 9,
    "start_time": "2023-01-28T13:06:06.304Z"
   },
   {
    "duration": 10,
    "start_time": "2023-01-28T13:06:06.315Z"
   },
   {
    "duration": 78,
    "start_time": "2023-01-28T13:06:06.327Z"
   },
   {
    "duration": 10,
    "start_time": "2023-01-28T13:06:09.160Z"
   },
   {
    "duration": 25,
    "start_time": "2023-01-28T13:06:14.783Z"
   },
   {
    "duration": 130,
    "start_time": "2023-01-28T13:06:21.016Z"
   },
   {
    "duration": 36,
    "start_time": "2023-01-28T13:06:24.756Z"
   },
   {
    "duration": 57,
    "start_time": "2023-01-28T13:06:28.764Z"
   },
   {
    "duration": 978,
    "start_time": "2023-01-28T13:06:32.777Z"
   },
   {
    "duration": 80,
    "start_time": "2023-01-28T13:28:23.964Z"
   },
   {
    "duration": 50,
    "start_time": "2023-01-28T13:28:53.486Z"
   },
   {
    "duration": 57,
    "start_time": "2023-01-28T13:29:02.461Z"
   },
   {
    "duration": 8,
    "start_time": "2023-01-28T13:29:02.521Z"
   },
   {
    "duration": 22,
    "start_time": "2023-01-28T13:29:02.531Z"
   },
   {
    "duration": 85,
    "start_time": "2023-01-28T13:29:02.557Z"
   },
   {
    "duration": 11,
    "start_time": "2023-01-28T13:29:02.644Z"
   },
   {
    "duration": 45,
    "start_time": "2023-01-28T13:29:02.656Z"
   },
   {
    "duration": 56,
    "start_time": "2023-01-28T13:29:02.702Z"
   },
   {
    "duration": 200,
    "start_time": "2023-01-28T13:29:02.759Z"
   },
   {
    "duration": 222,
    "start_time": "2023-01-28T13:29:02.961Z"
   },
   {
    "duration": 969,
    "start_time": "2023-01-28T13:29:03.185Z"
   },
   {
    "duration": 104,
    "start_time": "2023-01-28T13:29:04.839Z"
   },
   {
    "duration": 11,
    "start_time": "2023-01-28T13:32:02.186Z"
   },
   {
    "duration": 112,
    "start_time": "2023-01-28T13:32:05.027Z"
   },
   {
    "duration": 99,
    "start_time": "2023-01-28T13:32:43.043Z"
   },
   {
    "duration": 1896,
    "start_time": "2023-01-28T13:33:02.471Z"
   },
   {
    "duration": 9,
    "start_time": "2023-01-28T13:35:45.386Z"
   },
   {
    "duration": 22,
    "start_time": "2023-01-28T13:40:21.296Z"
   },
   {
    "duration": 25,
    "start_time": "2023-01-28T13:40:23.951Z"
   },
   {
    "duration": 430,
    "start_time": "2023-01-28T13:40:26.861Z"
   },
   {
    "duration": 1926,
    "start_time": "2023-01-28T13:48:49.630Z"
   },
   {
    "duration": 55,
    "start_time": "2023-01-28T18:04:28.375Z"
   },
   {
    "duration": 899,
    "start_time": "2023-01-28T18:04:32.128Z"
   },
   {
    "duration": 952,
    "start_time": "2023-01-28T18:04:37.284Z"
   },
   {
    "duration": 47,
    "start_time": "2023-01-28T18:20:54.511Z"
   },
   {
    "duration": 12,
    "start_time": "2023-01-28T18:42:44.096Z"
   },
   {
    "duration": 23,
    "start_time": "2023-01-28T18:43:50.563Z"
   },
   {
    "duration": 19,
    "start_time": "2023-01-28T18:44:16.017Z"
   },
   {
    "duration": 50,
    "start_time": "2023-01-28T18:44:26.174Z"
   },
   {
    "duration": 7,
    "start_time": "2023-01-28T18:44:26.226Z"
   },
   {
    "duration": 15,
    "start_time": "2023-01-28T18:44:26.235Z"
   },
   {
    "duration": 70,
    "start_time": "2023-01-28T18:44:26.252Z"
   },
   {
    "duration": 11,
    "start_time": "2023-01-28T18:44:26.323Z"
   },
   {
    "duration": 36,
    "start_time": "2023-01-28T18:44:26.335Z"
   },
   {
    "duration": 50,
    "start_time": "2023-01-28T18:44:28.810Z"
   },
   {
    "duration": 130,
    "start_time": "2023-01-28T18:44:36.111Z"
   },
   {
    "duration": 81,
    "start_time": "2023-01-28T18:44:42.665Z"
   },
   {
    "duration": 525,
    "start_time": "2023-01-28T19:06:53.025Z"
   },
   {
    "duration": 1100,
    "start_time": "2023-01-28T19:07:03.145Z"
   },
   {
    "duration": 893,
    "start_time": "2023-01-28T19:07:11.447Z"
   },
   {
    "duration": 1751,
    "start_time": "2023-01-28T19:07:32.989Z"
   },
   {
    "duration": 94,
    "start_time": "2023-01-28T19:48:09.726Z"
   },
   {
    "duration": 235,
    "start_time": "2023-01-28T19:48:30.905Z"
   },
   {
    "duration": 743,
    "start_time": "2023-01-28T19:48:45.652Z"
   },
   {
    "duration": 61,
    "start_time": "2023-01-28T19:49:38.199Z"
   },
   {
    "duration": 60,
    "start_time": "2023-01-28T19:49:47.191Z"
   },
   {
    "duration": 578,
    "start_time": "2023-01-28T19:51:49.248Z"
   },
   {
    "duration": 1770,
    "start_time": "2023-01-28T19:53:25.177Z"
   },
   {
    "duration": 1268,
    "start_time": "2023-01-28T19:55:01.617Z"
   },
   {
    "duration": 616,
    "start_time": "2023-01-28T19:56:40.052Z"
   },
   {
    "duration": 1087,
    "start_time": "2023-01-28T19:58:43.593Z"
   },
   {
    "duration": 600,
    "start_time": "2023-01-28T20:00:00.645Z"
   },
   {
    "duration": 1220,
    "start_time": "2023-01-28T20:00:54.871Z"
   },
   {
    "duration": 1019,
    "start_time": "2023-01-28T20:01:15.248Z"
   },
   {
    "duration": 234,
    "start_time": "2023-01-28T20:01:40.981Z"
   },
   {
    "duration": 265,
    "start_time": "2023-01-28T20:01:49.492Z"
   },
   {
    "duration": 724,
    "start_time": "2023-01-28T20:03:27.848Z"
   },
   {
    "duration": 712,
    "start_time": "2023-01-28T20:03:52.796Z"
   },
   {
    "duration": 696,
    "start_time": "2023-01-28T20:04:25.649Z"
   },
   {
    "duration": 723,
    "start_time": "2023-01-28T20:09:31.680Z"
   },
   {
    "duration": 757,
    "start_time": "2023-01-28T20:09:38.034Z"
   },
   {
    "duration": 2354,
    "start_time": "2023-01-28T20:09:51.606Z"
   },
   {
    "duration": 238,
    "start_time": "2023-01-28T20:10:01.387Z"
   },
   {
    "duration": 49,
    "start_time": "2023-01-28T20:21:40.049Z"
   },
   {
    "duration": 7,
    "start_time": "2023-01-28T20:21:40.100Z"
   },
   {
    "duration": 13,
    "start_time": "2023-01-28T20:21:40.109Z"
   },
   {
    "duration": 55,
    "start_time": "2023-01-28T20:21:40.124Z"
   },
   {
    "duration": 9,
    "start_time": "2023-01-28T20:21:40.182Z"
   },
   {
    "duration": 36,
    "start_time": "2023-01-28T20:21:40.192Z"
   },
   {
    "duration": 614,
    "start_time": "2023-01-28T20:21:40.229Z"
   },
   {
    "duration": 224,
    "start_time": "2023-01-28T20:21:40.846Z"
   },
   {
    "duration": 908,
    "start_time": "2023-01-28T20:21:41.071Z"
   },
   {
    "duration": 1063,
    "start_time": "2023-01-28T20:21:41.981Z"
   },
   {
    "duration": 320,
    "start_time": "2023-01-28T20:21:43.138Z"
   },
   {
    "duration": 508,
    "start_time": "2023-01-28T20:21:43.460Z"
   },
   {
    "duration": 12,
    "start_time": "2023-01-28T20:21:43.971Z"
   },
   {
    "duration": 2060,
    "start_time": "2023-01-28T20:21:43.986Z"
   },
   {
    "duration": 1321,
    "start_time": "2023-01-28T20:21:46.048Z"
   },
   {
    "duration": 1035,
    "start_time": "2023-01-28T20:21:47.371Z"
   },
   {
    "duration": 9,
    "start_time": "2023-01-28T20:21:48.408Z"
   },
   {
    "duration": 723,
    "start_time": "2023-01-28T20:21:48.418Z"
   },
   {
    "duration": 348,
    "start_time": "2023-01-28T20:21:49.143Z"
   },
   {
    "duration": 267,
    "start_time": "2023-01-28T20:21:49.493Z"
   },
   {
    "duration": 1743,
    "start_time": "2023-01-28T20:21:49.762Z"
   },
   {
    "duration": 1098,
    "start_time": "2023-01-28T20:25:45.840Z"
   },
   {
    "duration": 220,
    "start_time": "2023-01-28T20:26:03.590Z"
   },
   {
    "duration": 237,
    "start_time": "2023-01-28T20:28:40.447Z"
   },
   {
    "duration": 438,
    "start_time": "2023-01-28T20:28:58.674Z"
   },
   {
    "duration": 1229,
    "start_time": "2023-01-28T20:29:36.119Z"
   },
   {
    "duration": 1114,
    "start_time": "2023-01-28T20:29:42.228Z"
   },
   {
    "duration": 272,
    "start_time": "2023-01-28T20:30:06.889Z"
   },
   {
    "duration": 272,
    "start_time": "2023-01-28T20:30:13.191Z"
   },
   {
    "duration": 186,
    "start_time": "2023-01-28T20:32:08.854Z"
   },
   {
    "duration": 53,
    "start_time": "2023-01-29T06:35:54.963Z"
   },
   {
    "duration": 1331,
    "start_time": "2023-01-29T06:36:00.378Z"
   },
   {
    "duration": 8,
    "start_time": "2023-01-29T06:36:01.711Z"
   },
   {
    "duration": 24,
    "start_time": "2023-01-29T06:36:01.721Z"
   },
   {
    "duration": 72,
    "start_time": "2023-01-29T06:36:01.747Z"
   },
   {
    "duration": 10,
    "start_time": "2023-01-29T06:36:01.820Z"
   },
   {
    "duration": 44,
    "start_time": "2023-01-29T06:36:01.832Z"
   },
   {
    "duration": 798,
    "start_time": "2023-01-29T06:36:01.878Z"
   },
   {
    "duration": 140,
    "start_time": "2023-01-29T06:36:02.768Z"
   },
   {
    "duration": 899,
    "start_time": "2023-01-29T06:36:02.910Z"
   },
   {
    "duration": 1065,
    "start_time": "2023-01-29T06:36:03.812Z"
   },
   {
    "duration": 349,
    "start_time": "2023-01-29T06:36:04.971Z"
   },
   {
    "duration": 540,
    "start_time": "2023-01-29T06:36:05.322Z"
   },
   {
    "duration": 18,
    "start_time": "2023-01-29T06:36:05.868Z"
   },
   {
    "duration": 1489,
    "start_time": "2023-01-29T06:36:05.888Z"
   },
   {
    "duration": 1379,
    "start_time": "2023-01-29T06:36:07.382Z"
   },
   {
    "duration": 1300,
    "start_time": "2023-01-29T06:36:08.768Z"
   },
   {
    "duration": 0,
    "start_time": "2023-01-29T06:36:10.070Z"
   },
   {
    "duration": 0,
    "start_time": "2023-01-29T06:36:10.071Z"
   },
   {
    "duration": 0,
    "start_time": "2023-01-29T06:36:10.073Z"
   },
   {
    "duration": 0,
    "start_time": "2023-01-29T06:36:10.074Z"
   },
   {
    "duration": 0,
    "start_time": "2023-01-29T06:36:10.076Z"
   },
   {
    "duration": 0,
    "start_time": "2023-01-29T06:36:10.077Z"
   },
   {
    "duration": 1160,
    "start_time": "2023-01-29T06:36:39.549Z"
   },
   {
    "duration": 1140,
    "start_time": "2023-01-29T06:37:10.936Z"
   },
   {
    "duration": 1255,
    "start_time": "2023-01-29T06:38:33.065Z"
   },
   {
    "duration": 1236,
    "start_time": "2023-01-29T06:39:16.004Z"
   },
   {
    "duration": 960,
    "start_time": "2023-01-29T06:39:56.403Z"
   },
   {
    "duration": 3055,
    "start_time": "2023-01-29T06:40:39.152Z"
   },
   {
    "duration": 16,
    "start_time": "2023-01-29T06:41:07.468Z"
   },
   {
    "duration": 53,
    "start_time": "2023-01-29T06:41:19.924Z"
   },
   {
    "duration": 7,
    "start_time": "2023-01-29T06:41:19.979Z"
   },
   {
    "duration": 6,
    "start_time": "2023-01-29T06:41:19.987Z"
   },
   {
    "duration": 53,
    "start_time": "2023-01-29T06:41:19.994Z"
   },
   {
    "duration": 9,
    "start_time": "2023-01-29T06:41:20.069Z"
   },
   {
    "duration": 41,
    "start_time": "2023-01-29T06:41:20.080Z"
   },
   {
    "duration": 649,
    "start_time": "2023-01-29T06:41:20.123Z"
   },
   {
    "duration": 134,
    "start_time": "2023-01-29T06:41:20.774Z"
   },
   {
    "duration": 884,
    "start_time": "2023-01-29T06:41:20.910Z"
   },
   {
    "duration": 1574,
    "start_time": "2023-01-29T06:41:21.796Z"
   },
   {
    "duration": 314,
    "start_time": "2023-01-29T06:41:23.374Z"
   },
   {
    "duration": 443,
    "start_time": "2023-01-29T06:41:23.690Z"
   },
   {
    "duration": 10,
    "start_time": "2023-01-29T06:41:24.135Z"
   },
   {
    "duration": 1922,
    "start_time": "2023-01-29T06:41:24.147Z"
   },
   {
    "duration": 1274,
    "start_time": "2023-01-29T06:41:26.072Z"
   },
   {
    "duration": 3364,
    "start_time": "2023-01-29T06:41:27.348Z"
   },
   {
    "duration": 9,
    "start_time": "2023-01-29T06:41:30.714Z"
   },
   {
    "duration": 707,
    "start_time": "2023-01-29T06:41:36.668Z"
   },
   {
    "duration": 245,
    "start_time": "2023-01-29T06:41:52.144Z"
   },
   {
    "duration": 704,
    "start_time": "2023-01-29T06:42:31.027Z"
   },
   {
    "duration": 14,
    "start_time": "2023-01-29T06:50:37.417Z"
   },
   {
    "duration": 1094,
    "start_time": "2023-01-29T06:50:43.491Z"
   },
   {
    "duration": 471,
    "start_time": "2023-01-29T06:50:51.367Z"
   },
   {
    "duration": 1231,
    "start_time": "2023-01-29T06:50:57.617Z"
   },
   {
    "duration": 16,
    "start_time": "2023-01-29T06:51:14.843Z"
   },
   {
    "duration": 2536,
    "start_time": "2023-01-29T06:51:17.245Z"
   },
   {
    "duration": 709,
    "start_time": "2023-01-29T06:51:22.693Z"
   },
   {
    "duration": 1931,
    "start_time": "2023-01-29T06:51:27.293Z"
   },
   {
    "duration": 11,
    "start_time": "2023-01-29T06:51:37.449Z"
   },
   {
    "duration": 287,
    "start_time": "2023-01-29T06:51:40.525Z"
   },
   {
    "duration": 338,
    "start_time": "2023-01-29T06:51:43.320Z"
   },
   {
    "duration": 820,
    "start_time": "2023-01-29T06:51:47.335Z"
   },
   {
    "duration": 11,
    "start_time": "2023-01-29T06:52:05.984Z"
   },
   {
    "duration": 1824,
    "start_time": "2023-01-29T06:52:08.844Z"
   },
   {
    "duration": 244,
    "start_time": "2023-01-29T06:52:15.368Z"
   },
   {
    "duration": 667,
    "start_time": "2023-01-29T06:52:19.209Z"
   },
   {
    "duration": 11,
    "start_time": "2023-01-29T06:52:24.994Z"
   },
   {
    "duration": 1060,
    "start_time": "2023-01-29T06:52:27.218Z"
   },
   {
    "duration": 361,
    "start_time": "2023-01-29T06:52:31.177Z"
   },
   {
    "duration": 1216,
    "start_time": "2023-01-29T06:52:35.494Z"
   },
   {
    "duration": 10,
    "start_time": "2023-01-29T06:52:56.595Z"
   },
   {
    "duration": 526,
    "start_time": "2023-01-29T06:52:59.741Z"
   },
   {
    "duration": 901,
    "start_time": "2023-01-29T06:53:02.839Z"
   },
   {
    "duration": 2302,
    "start_time": "2023-01-29T06:53:08.870Z"
   },
   {
    "duration": 62,
    "start_time": "2023-01-29T06:54:57.708Z"
   },
   {
    "duration": 71,
    "start_time": "2023-01-29T07:00:27.635Z"
   },
   {
    "duration": 8,
    "start_time": "2023-01-29T07:02:18.258Z"
   },
   {
    "duration": 247,
    "start_time": "2023-01-29T07:06:52.373Z"
   },
   {
    "duration": 7,
    "start_time": "2023-01-29T07:06:59.384Z"
   },
   {
    "duration": 483,
    "start_time": "2023-01-29T07:07:05.428Z"
   },
   {
    "duration": 7,
    "start_time": "2023-01-29T07:07:08.641Z"
   },
   {
    "duration": 6,
    "start_time": "2023-01-29T07:13:54.121Z"
   },
   {
    "duration": 855,
    "start_time": "2023-01-29T07:15:43.269Z"
   },
   {
    "duration": 13,
    "start_time": "2023-01-29T07:19:00.820Z"
   },
   {
    "duration": 59,
    "start_time": "2023-01-29T07:19:04.622Z"
   },
   {
    "duration": 9,
    "start_time": "2023-01-29T07:23:01.907Z"
   },
   {
    "duration": 23,
    "start_time": "2023-01-29T07:24:20.388Z"
   },
   {
    "duration": 14,
    "start_time": "2023-01-29T07:24:31.890Z"
   },
   {
    "duration": 23,
    "start_time": "2023-01-29T07:24:57.865Z"
   },
   {
    "duration": 5,
    "start_time": "2023-01-29T07:50:50.907Z"
   },
   {
    "duration": 11,
    "start_time": "2023-01-29T07:51:53.476Z"
   },
   {
    "duration": 47,
    "start_time": "2023-01-29T07:52:31.341Z"
   },
   {
    "duration": 7,
    "start_time": "2023-01-29T07:57:03.282Z"
   },
   {
    "duration": 10,
    "start_time": "2023-01-29T07:57:56.729Z"
   },
   {
    "duration": 60,
    "start_time": "2023-01-29T07:58:28.141Z"
   },
   {
    "duration": 15,
    "start_time": "2023-01-29T07:58:34.923Z"
   },
   {
    "duration": 424,
    "start_time": "2023-01-29T07:59:02.719Z"
   },
   {
    "duration": 125,
    "start_time": "2023-01-29T07:59:09.704Z"
   },
   {
    "duration": 11,
    "start_time": "2023-01-29T08:01:38.269Z"
   },
   {
    "duration": 38,
    "start_time": "2023-01-29T08:01:43.480Z"
   },
   {
    "duration": 1588,
    "start_time": "2023-01-29T17:02:35.449Z"
   },
   {
    "duration": 8,
    "start_time": "2023-01-29T17:02:40.483Z"
   },
   {
    "duration": 5,
    "start_time": "2023-01-29T17:02:46.179Z"
   },
   {
    "duration": 49,
    "start_time": "2023-01-29T17:02:50.047Z"
   },
   {
    "duration": 42,
    "start_time": "2023-01-29T17:04:36.918Z"
   },
   {
    "duration": 10,
    "start_time": "2023-01-29T17:04:41.522Z"
   },
   {
    "duration": 25,
    "start_time": "2023-01-29T17:05:59.941Z"
   },
   {
    "duration": 819,
    "start_time": "2023-01-29T17:06:32.874Z"
   },
   {
    "duration": 204,
    "start_time": "2023-01-29T17:06:40.717Z"
   },
   {
    "duration": 5,
    "start_time": "2023-01-29T17:06:47.157Z"
   },
   {
    "duration": 6,
    "start_time": "2023-01-29T17:06:50.692Z"
   },
   {
    "duration": 397,
    "start_time": "2023-01-29T17:06:54.380Z"
   },
   {
    "duration": 5,
    "start_time": "2023-01-29T17:06:57.427Z"
   },
   {
    "duration": 766,
    "start_time": "2023-01-29T17:09:07.632Z"
   },
   {
    "duration": 6,
    "start_time": "2023-01-29T17:09:10.115Z"
   },
   {
    "duration": 205,
    "start_time": "2023-01-29T17:09:12.792Z"
   },
   {
    "duration": 5,
    "start_time": "2023-01-29T17:09:14.883Z"
   },
   {
    "duration": 400,
    "start_time": "2023-01-29T17:09:19.177Z"
   },
   {
    "duration": 6,
    "start_time": "2023-01-29T17:09:21.700Z"
   },
   {
    "duration": 459,
    "start_time": "2023-01-29T17:14:40.743Z"
   },
   {
    "duration": 59,
    "start_time": "2023-01-29T17:14:46.339Z"
   },
   {
    "duration": 1015,
    "start_time": "2023-01-29T17:14:48.905Z"
   },
   {
    "duration": 11,
    "start_time": "2023-01-29T17:19:24.682Z"
   },
   {
    "duration": 636,
    "start_time": "2023-01-29T17:19:27.858Z"
   },
   {
    "duration": 905,
    "start_time": "2023-01-29T17:19:32.316Z"
   },
   {
    "duration": 2407,
    "start_time": "2023-01-29T17:19:39.872Z"
   },
   {
    "duration": 9,
    "start_time": "2023-01-29T17:19:52.844Z"
   },
   {
    "duration": 649,
    "start_time": "2023-01-29T17:19:59.843Z"
   },
   {
    "duration": 350,
    "start_time": "2023-01-29T17:20:04.181Z"
   },
   {
    "duration": 1030,
    "start_time": "2023-01-29T17:20:07.948Z"
   },
   {
    "duration": 14,
    "start_time": "2023-01-29T17:20:12.959Z"
   },
   {
    "duration": 43,
    "start_time": "2023-01-29T17:20:16.039Z"
   },
   {
    "duration": 8,
    "start_time": "2023-01-29T17:20:19.590Z"
   },
   {
    "duration": 123,
    "start_time": "2023-01-29T17:20:22.660Z"
   },
   {
    "duration": 10,
    "start_time": "2023-01-29T17:48:56.786Z"
   },
   {
    "duration": 36,
    "start_time": "2023-01-29T17:48:59.482Z"
   },
   {
    "duration": 34,
    "start_time": "2023-01-29T17:51:00.991Z"
   },
   {
    "duration": 33,
    "start_time": "2023-01-29T17:51:09.649Z"
   },
   {
    "duration": 812,
    "start_time": "2023-01-29T17:53:45.728Z"
   },
   {
    "duration": 8,
    "start_time": "2023-01-29T17:54:47.805Z"
   },
   {
    "duration": 7,
    "start_time": "2023-01-29T17:55:40.616Z"
   },
   {
    "duration": 9,
    "start_time": "2023-01-29T17:55:44.257Z"
   },
   {
    "duration": 7,
    "start_time": "2023-01-29T17:55:55.097Z"
   },
   {
    "duration": 7,
    "start_time": "2023-01-29T17:56:37.867Z"
   },
   {
    "duration": 33,
    "start_time": "2023-01-29T17:57:02.326Z"
   },
   {
    "duration": 8,
    "start_time": "2023-01-29T17:57:14.801Z"
   },
   {
    "duration": 17,
    "start_time": "2023-01-29T18:00:19.562Z"
   },
   {
    "duration": 32,
    "start_time": "2023-01-29T18:01:22.283Z"
   },
   {
    "duration": 48,
    "start_time": "2023-01-29T18:01:30.937Z"
   },
   {
    "duration": 6,
    "start_time": "2023-01-29T18:01:30.987Z"
   },
   {
    "duration": 46,
    "start_time": "2023-01-29T18:01:30.995Z"
   },
   {
    "duration": 84,
    "start_time": "2023-01-29T18:01:31.044Z"
   },
   {
    "duration": 17,
    "start_time": "2023-01-29T18:01:31.129Z"
   },
   {
    "duration": 45,
    "start_time": "2023-01-29T18:01:31.148Z"
   },
   {
    "duration": 702,
    "start_time": "2023-01-29T18:01:31.195Z"
   },
   {
    "duration": 94,
    "start_time": "2023-01-29T18:01:31.899Z"
   },
   {
    "duration": 315,
    "start_time": "2023-01-29T18:01:31.995Z"
   },
   {
    "duration": 5,
    "start_time": "2023-01-29T18:01:32.313Z"
   },
   {
    "duration": 430,
    "start_time": "2023-01-29T18:01:32.320Z"
   },
   {
    "duration": 6,
    "start_time": "2023-01-29T18:01:32.751Z"
   },
   {
    "duration": 734,
    "start_time": "2023-01-29T18:01:32.758Z"
   },
   {
    "duration": 142,
    "start_time": "2023-01-29T18:01:33.494Z"
   },
   {
    "duration": 833,
    "start_time": "2023-01-29T18:01:33.637Z"
   },
   {
    "duration": 10,
    "start_time": "2023-01-29T18:01:34.472Z"
   },
   {
    "duration": 806,
    "start_time": "2023-01-29T18:01:34.491Z"
   },
   {
    "duration": 862,
    "start_time": "2023-01-29T18:01:35.299Z"
   },
   {
    "duration": 2080,
    "start_time": "2023-01-29T18:01:36.163Z"
   },
   {
    "duration": 9,
    "start_time": "2023-01-29T18:01:38.244Z"
   },
   {
    "duration": 842,
    "start_time": "2023-01-29T18:01:38.255Z"
   },
   {
    "duration": 456,
    "start_time": "2023-01-29T18:01:39.100Z"
   },
   {
    "duration": 881,
    "start_time": "2023-01-29T18:01:39.558Z"
   },
   {
    "duration": 31,
    "start_time": "2023-01-29T18:01:45.501Z"
   },
   {
    "duration": 763,
    "start_time": "2023-01-29T18:12:59.755Z"
   },
   {
    "duration": 33,
    "start_time": "2023-01-29T18:13:08.373Z"
   },
   {
    "duration": 323,
    "start_time": "2023-01-29T18:21:18.258Z"
   },
   {
    "duration": 305,
    "start_time": "2023-01-29T18:21:37.362Z"
   },
   {
    "duration": 598,
    "start_time": "2023-01-29T18:21:55.002Z"
   },
   {
    "duration": 630,
    "start_time": "2023-01-29T18:22:06.271Z"
   },
   {
    "duration": 42,
    "start_time": "2023-01-29T18:22:21.216Z"
   },
   {
    "duration": 33,
    "start_time": "2023-01-29T18:22:29.804Z"
   },
   {
    "duration": 47,
    "start_time": "2023-01-29T18:26:18.246Z"
   },
   {
    "duration": 6,
    "start_time": "2023-01-29T18:26:18.295Z"
   },
   {
    "duration": 10,
    "start_time": "2023-01-29T18:26:18.303Z"
   },
   {
    "duration": 46,
    "start_time": "2023-01-29T18:26:18.314Z"
   },
   {
    "duration": 9,
    "start_time": "2023-01-29T18:26:18.362Z"
   },
   {
    "duration": 19,
    "start_time": "2023-01-29T18:26:18.391Z"
   },
   {
    "duration": 480,
    "start_time": "2023-01-29T18:26:18.412Z"
   },
   {
    "duration": 97,
    "start_time": "2023-01-29T18:26:18.894Z"
   },
   {
    "duration": 211,
    "start_time": "2023-01-29T18:26:18.993Z"
   },
   {
    "duration": 7,
    "start_time": "2023-01-29T18:26:19.205Z"
   },
   {
    "duration": 415,
    "start_time": "2023-01-29T18:26:19.214Z"
   },
   {
    "duration": 6,
    "start_time": "2023-01-29T18:26:19.631Z"
   },
   {
    "duration": 752,
    "start_time": "2023-01-29T18:26:19.639Z"
   },
   {
    "duration": 141,
    "start_time": "2023-01-29T18:26:20.396Z"
   },
   {
    "duration": 808,
    "start_time": "2023-01-29T18:26:20.538Z"
   },
   {
    "duration": 9,
    "start_time": "2023-01-29T18:26:21.348Z"
   },
   {
    "duration": 741,
    "start_time": "2023-01-29T18:26:21.358Z"
   },
   {
    "duration": 908,
    "start_time": "2023-01-29T18:26:22.101Z"
   },
   {
    "duration": 2040,
    "start_time": "2023-01-29T18:26:23.010Z"
   },
   {
    "duration": 9,
    "start_time": "2023-01-29T18:26:25.052Z"
   },
   {
    "duration": 532,
    "start_time": "2023-01-29T18:26:25.062Z"
   },
   {
    "duration": 398,
    "start_time": "2023-01-29T18:26:25.596Z"
   },
   {
    "duration": 930,
    "start_time": "2023-01-29T18:26:25.996Z"
   },
   {
    "duration": 32,
    "start_time": "2023-01-29T18:26:26.927Z"
   },
   {
    "duration": 6,
    "start_time": "2023-01-29T18:26:26.961Z"
   },
   {
    "duration": 7,
    "start_time": "2023-01-29T18:26:35.499Z"
   },
   {
    "duration": 105,
    "start_time": "2023-01-29T18:26:41.118Z"
   },
   {
    "duration": 2163,
    "start_time": "2023-01-30T12:52:28.682Z"
   },
   {
    "duration": 12,
    "start_time": "2023-01-30T12:52:30.847Z"
   },
   {
    "duration": 50,
    "start_time": "2023-01-30T12:52:30.861Z"
   },
   {
    "duration": 120,
    "start_time": "2023-01-30T12:52:30.914Z"
   },
   {
    "duration": 15,
    "start_time": "2023-01-30T12:52:31.047Z"
   },
   {
    "duration": 90,
    "start_time": "2023-01-30T12:52:31.064Z"
   },
   {
    "duration": 312,
    "start_time": "2023-01-30T12:52:33.372Z"
   },
   {
    "duration": 129,
    "start_time": "2023-01-30T12:52:41.639Z"
   },
   {
    "duration": 127,
    "start_time": "2023-01-30T12:53:10.769Z"
   },
   {
    "duration": 129,
    "start_time": "2023-01-30T12:53:20.473Z"
   },
   {
    "duration": 36166,
    "start_time": "2023-01-30T12:53:25.999Z"
   },
   {
    "duration": 2573,
    "start_time": "2023-01-30T12:55:32.918Z"
   },
   {
    "duration": 55,
    "start_time": "2023-01-30T12:55:35.493Z"
   },
   {
    "duration": 44,
    "start_time": "2023-01-30T12:55:35.550Z"
   },
   {
    "duration": 169,
    "start_time": "2023-01-30T12:55:35.596Z"
   },
   {
    "duration": 15,
    "start_time": "2023-01-30T12:55:35.770Z"
   },
   {
    "duration": 88,
    "start_time": "2023-01-30T12:55:35.788Z"
   },
   {
    "duration": 350,
    "start_time": "2023-01-30T12:55:35.879Z"
   },
   {
    "duration": 0,
    "start_time": "2023-01-30T12:55:36.232Z"
   },
   {
    "duration": 0,
    "start_time": "2023-01-30T12:55:36.234Z"
   },
   {
    "duration": 0,
    "start_time": "2023-01-30T12:55:36.240Z"
   },
   {
    "duration": 0,
    "start_time": "2023-01-30T12:55:36.241Z"
   },
   {
    "duration": 0,
    "start_time": "2023-01-30T12:55:36.242Z"
   },
   {
    "duration": 0,
    "start_time": "2023-01-30T12:55:36.244Z"
   },
   {
    "duration": 0,
    "start_time": "2023-01-30T12:55:36.246Z"
   },
   {
    "duration": 0,
    "start_time": "2023-01-30T12:55:36.247Z"
   },
   {
    "duration": 0,
    "start_time": "2023-01-30T12:55:36.248Z"
   },
   {
    "duration": 0,
    "start_time": "2023-01-30T12:55:36.249Z"
   },
   {
    "duration": 0,
    "start_time": "2023-01-30T12:55:36.250Z"
   },
   {
    "duration": 0,
    "start_time": "2023-01-30T12:55:36.251Z"
   },
   {
    "duration": 0,
    "start_time": "2023-01-30T12:55:36.253Z"
   },
   {
    "duration": 0,
    "start_time": "2023-01-30T12:55:36.254Z"
   },
   {
    "duration": 0,
    "start_time": "2023-01-30T12:55:36.256Z"
   },
   {
    "duration": 0,
    "start_time": "2023-01-30T12:55:36.257Z"
   },
   {
    "duration": 0,
    "start_time": "2023-01-30T12:55:36.268Z"
   },
   {
    "duration": 0,
    "start_time": "2023-01-30T12:55:36.268Z"
   },
   {
    "duration": 0,
    "start_time": "2023-01-30T12:55:36.269Z"
   },
   {
    "duration": 0,
    "start_time": "2023-01-30T12:55:36.274Z"
   },
   {
    "duration": 20,
    "start_time": "2023-01-30T12:55:42.477Z"
   },
   {
    "duration": 138,
    "start_time": "2023-01-30T12:55:54.134Z"
   },
   {
    "duration": 1621,
    "start_time": "2023-01-30T12:56:00.432Z"
   },
   {
    "duration": 82,
    "start_time": "2023-01-30T12:56:02.059Z"
   },
   {
    "duration": 305,
    "start_time": "2023-01-30T12:56:02.144Z"
   },
   {
    "duration": 11,
    "start_time": "2023-01-30T12:56:02.455Z"
   },
   {
    "duration": 1013,
    "start_time": "2023-01-30T12:56:02.468Z"
   },
   {
    "duration": 62,
    "start_time": "2023-01-30T12:56:03.483Z"
   },
   {
    "duration": 1393,
    "start_time": "2023-01-30T12:56:03.548Z"
   },
   {
    "duration": 200,
    "start_time": "2023-01-30T12:56:04.945Z"
   },
   {
    "duration": 1886,
    "start_time": "2023-01-30T12:56:05.147Z"
   },
   {
    "duration": 19,
    "start_time": "2023-01-30T12:56:07.041Z"
   },
   {
    "duration": 2189,
    "start_time": "2023-01-30T12:56:07.062Z"
   },
   {
    "duration": 1095,
    "start_time": "2023-01-30T12:56:09.253Z"
   },
   {
    "duration": 2600,
    "start_time": "2023-01-30T12:56:10.350Z"
   },
   {
    "duration": 15,
    "start_time": "2023-01-30T12:56:12.953Z"
   },
   {
    "duration": 1091,
    "start_time": "2023-01-30T12:56:12.970Z"
   },
   {
    "duration": 544,
    "start_time": "2023-01-30T12:56:14.067Z"
   },
   {
    "duration": 1121,
    "start_time": "2023-01-30T12:56:14.613Z"
   },
   {
    "duration": 43,
    "start_time": "2023-01-30T12:56:15.735Z"
   },
   {
    "duration": 10,
    "start_time": "2023-01-30T12:56:15.780Z"
   },
   {
    "duration": 161,
    "start_time": "2023-01-30T12:56:15.792Z"
   },
   {
    "duration": 163,
    "start_time": "2023-01-30T13:01:38.172Z"
   },
   {
    "duration": 148,
    "start_time": "2023-01-30T13:03:06.406Z"
   },
   {
    "duration": 163,
    "start_time": "2023-01-30T13:04:42.394Z"
   },
   {
    "duration": 1527,
    "start_time": "2023-01-30T17:31:04.053Z"
   },
   {
    "duration": 189,
    "start_time": "2023-01-30T17:31:06.634Z"
   },
   {
    "duration": 43,
    "start_time": "2023-01-30T17:38:39.169Z"
   },
   {
    "duration": 9,
    "start_time": "2023-01-30T17:40:00.860Z"
   },
   {
    "duration": 10,
    "start_time": "2023-01-30T17:40:23.205Z"
   },
   {
    "duration": 7,
    "start_time": "2023-01-30T17:40:38.498Z"
   },
   {
    "duration": 113,
    "start_time": "2023-01-30T17:54:27.909Z"
   },
   {
    "duration": 4,
    "start_time": "2023-01-30T17:55:24.774Z"
   },
   {
    "duration": 51,
    "start_time": "2023-01-30T17:55:24.803Z"
   },
   {
    "duration": 8,
    "start_time": "2023-01-30T17:55:24.855Z"
   },
   {
    "duration": 14,
    "start_time": "2023-01-30T17:55:24.864Z"
   },
   {
    "duration": 2,
    "start_time": "2023-01-30T17:55:24.880Z"
   },
   {
    "duration": 69,
    "start_time": "2023-01-30T17:55:24.884Z"
   },
   {
    "duration": 12,
    "start_time": "2023-01-30T17:55:28.827Z"
   },
   {
    "duration": 31,
    "start_time": "2023-01-30T17:55:30.310Z"
   },
   {
    "duration": 15,
    "start_time": "2023-01-30T18:23:17.083Z"
   },
   {
    "duration": 11,
    "start_time": "2023-01-30T18:23:52.744Z"
   },
   {
    "duration": 29,
    "start_time": "2023-01-30T18:24:13.745Z"
   },
   {
    "duration": 45,
    "start_time": "2023-01-30T18:24:53.947Z"
   },
   {
    "duration": 55,
    "start_time": "2023-01-30T18:25:04.968Z"
   },
   {
    "duration": 49,
    "start_time": "2023-01-30T18:25:10.018Z"
   },
   {
    "duration": 61,
    "start_time": "2023-01-30T18:25:31.848Z"
   },
   {
    "duration": 42,
    "start_time": "2023-01-30T18:25:51.120Z"
   },
   {
    "duration": 49,
    "start_time": "2023-01-30T18:26:15.423Z"
   },
   {
    "duration": 4,
    "start_time": "2023-01-30T18:26:19.982Z"
   },
   {
    "duration": 56,
    "start_time": "2023-01-30T18:26:19.988Z"
   },
   {
    "duration": 7,
    "start_time": "2023-01-30T18:26:20.046Z"
   },
   {
    "duration": 10,
    "start_time": "2023-01-30T18:26:20.055Z"
   },
   {
    "duration": 2,
    "start_time": "2023-01-30T18:26:20.067Z"
   },
   {
    "duration": 66,
    "start_time": "2023-01-30T18:26:20.070Z"
   },
   {
    "duration": 10,
    "start_time": "2023-01-30T18:26:20.137Z"
   },
   {
    "duration": 26,
    "start_time": "2023-01-30T18:26:20.148Z"
   },
   {
    "duration": 47,
    "start_time": "2023-01-30T18:26:22.359Z"
   },
   {
    "duration": 64,
    "start_time": "2023-01-30T18:27:01.257Z"
   },
   {
    "duration": 114,
    "start_time": "2023-01-30T18:29:12.417Z"
   },
   {
    "duration": 11,
    "start_time": "2023-01-30T18:35:12.046Z"
   },
   {
    "duration": 252,
    "start_time": "2023-01-30T18:35:15.298Z"
   },
   {
    "duration": 8,
    "start_time": "2023-01-30T18:35:17.402Z"
   },
   {
    "duration": 1065,
    "start_time": "2023-01-30T19:05:19.563Z"
   },
   {
    "duration": 13,
    "start_time": "2023-01-30T19:05:31.810Z"
   },
   {
    "duration": 222,
    "start_time": "2023-01-30T19:07:01.630Z"
   },
   {
    "duration": 7,
    "start_time": "2023-01-30T19:07:04.044Z"
   },
   {
    "duration": 519,
    "start_time": "2023-01-30T19:07:34.084Z"
   },
   {
    "duration": 16,
    "start_time": "2023-01-30T19:07:36.611Z"
   },
   {
    "duration": 3563,
    "start_time": "2023-01-30T19:30:27.244Z"
   },
   {
    "duration": 3324,
    "start_time": "2023-01-30T19:31:41.019Z"
   },
   {
    "duration": 3490,
    "start_time": "2023-01-30T19:32:31.429Z"
   },
   {
    "duration": 3801,
    "start_time": "2023-01-30T19:33:51.283Z"
   },
   {
    "duration": 3703,
    "start_time": "2023-01-30T19:35:36.270Z"
   },
   {
    "duration": 3708,
    "start_time": "2023-01-30T19:37:22.988Z"
   },
   {
    "duration": 3556,
    "start_time": "2023-01-30T19:37:42.498Z"
   },
   {
    "duration": 12,
    "start_time": "2023-01-30T19:37:53.510Z"
   },
   {
    "duration": 13,
    "start_time": "2023-01-30T19:39:44.519Z"
   },
   {
    "duration": 12,
    "start_time": "2023-01-30T19:39:52.570Z"
   },
   {
    "duration": 232,
    "start_time": "2023-01-30T19:40:23.622Z"
   },
   {
    "duration": 7,
    "start_time": "2023-01-30T19:41:08.952Z"
   },
   {
    "duration": 9,
    "start_time": "2023-01-30T19:42:25.487Z"
   },
   {
    "duration": 674,
    "start_time": "2023-01-30T19:42:50.248Z"
   },
   {
    "duration": 56,
    "start_time": "2023-01-30T19:43:23.651Z"
   },
   {
    "duration": 59,
    "start_time": "2023-01-30T19:43:36.494Z"
   },
   {
    "duration": 965,
    "start_time": "2023-01-30T19:44:04.657Z"
   },
   {
    "duration": 3639,
    "start_time": "2023-01-30T19:48:38.263Z"
   },
   {
    "duration": 3748,
    "start_time": "2023-01-30T19:49:23.472Z"
   },
   {
    "duration": 243,
    "start_time": "2023-01-30T19:51:18.041Z"
   },
   {
    "duration": 743,
    "start_time": "2023-01-30T19:51:32.282Z"
   },
   {
    "duration": 97,
    "start_time": "2023-01-30T19:55:23.284Z"
   },
   {
    "duration": 6,
    "start_time": "2023-01-30T20:05:17.389Z"
   },
   {
    "duration": 4,
    "start_time": "2023-01-30T20:05:29.215Z"
   },
   {
    "duration": 54,
    "start_time": "2023-01-30T20:05:29.221Z"
   },
   {
    "duration": 7,
    "start_time": "2023-01-30T20:05:29.277Z"
   },
   {
    "duration": 24,
    "start_time": "2023-01-30T20:05:29.286Z"
   },
   {
    "duration": 2,
    "start_time": "2023-01-30T20:05:29.312Z"
   },
   {
    "duration": 59,
    "start_time": "2023-01-30T20:05:29.315Z"
   },
   {
    "duration": 10,
    "start_time": "2023-01-30T20:05:29.376Z"
   },
   {
    "duration": 35,
    "start_time": "2023-01-30T20:05:29.388Z"
   },
   {
    "duration": 97,
    "start_time": "2023-01-30T20:05:29.426Z"
   },
   {
    "duration": 1395,
    "start_time": "2023-01-30T20:05:29.525Z"
   },
   {
    "duration": 10,
    "start_time": "2023-01-30T20:05:30.922Z"
   },
   {
    "duration": 343,
    "start_time": "2023-01-30T20:05:31.022Z"
   },
   {
    "duration": 11,
    "start_time": "2023-01-30T20:05:31.366Z"
   },
   {
    "duration": 3710,
    "start_time": "2023-01-30T20:05:31.379Z"
   },
   {
    "duration": 14,
    "start_time": "2023-01-30T20:05:35.091Z"
   },
   {
    "duration": 820,
    "start_time": "2023-01-30T20:05:35.107Z"
   },
   {
    "duration": 352,
    "start_time": "2023-01-30T20:05:35.929Z"
   },
   {
    "duration": 3702,
    "start_time": "2023-01-30T20:05:36.283Z"
   },
   {
    "duration": 13,
    "start_time": "2023-01-30T20:05:39.987Z"
   },
   {
    "duration": 6,
    "start_time": "2023-01-30T20:05:46.455Z"
   },
   {
    "duration": 6,
    "start_time": "2023-01-30T20:06:21.200Z"
   },
   {
    "duration": 9,
    "start_time": "2023-01-30T20:06:54.274Z"
   },
   {
    "duration": 10,
    "start_time": "2023-01-30T20:08:28.863Z"
   },
   {
    "duration": 10,
    "start_time": "2023-01-30T20:08:35.840Z"
   },
   {
    "duration": 726,
    "start_time": "2023-01-30T20:08:39.032Z"
   },
   {
    "duration": 4,
    "start_time": "2023-01-30T20:08:52.448Z"
   },
   {
    "duration": 49,
    "start_time": "2023-01-30T20:08:52.527Z"
   },
   {
    "duration": 7,
    "start_time": "2023-01-30T20:08:52.578Z"
   },
   {
    "duration": 13,
    "start_time": "2023-01-30T20:08:52.587Z"
   },
   {
    "duration": 3,
    "start_time": "2023-01-30T20:08:52.601Z"
   },
   {
    "duration": 55,
    "start_time": "2023-01-30T20:08:52.606Z"
   },
   {
    "duration": 10,
    "start_time": "2023-01-30T20:08:52.663Z"
   },
   {
    "duration": 24,
    "start_time": "2023-01-30T20:08:52.675Z"
   },
   {
    "duration": 95,
    "start_time": "2023-01-30T20:08:52.700Z"
   },
   {
    "duration": 1424,
    "start_time": "2023-01-30T20:08:52.797Z"
   },
   {
    "duration": 102,
    "start_time": "2023-01-30T20:08:54.223Z"
   },
   {
    "duration": 356,
    "start_time": "2023-01-30T20:08:54.327Z"
   },
   {
    "duration": 13,
    "start_time": "2023-01-30T20:08:54.685Z"
   },
   {
    "duration": 3641,
    "start_time": "2023-01-30T20:08:54.701Z"
   },
   {
    "duration": 12,
    "start_time": "2023-01-30T20:08:58.345Z"
   },
   {
    "duration": 963,
    "start_time": "2023-01-30T20:08:58.359Z"
   },
   {
    "duration": 356,
    "start_time": "2023-01-30T20:08:59.324Z"
   },
   {
    "duration": 3716,
    "start_time": "2023-01-30T20:08:59.682Z"
   },
   {
    "duration": 21,
    "start_time": "2023-01-30T20:09:03.400Z"
   },
   {
    "duration": 6,
    "start_time": "2023-01-30T20:09:03.422Z"
   },
   {
    "duration": 593,
    "start_time": "2023-01-30T20:09:03.429Z"
   },
   {
    "duration": 925,
    "start_time": "2023-01-30T20:09:04.025Z"
   },
   {
    "duration": 2451,
    "start_time": "2023-01-30T20:09:04.952Z"
   },
   {
    "duration": 16,
    "start_time": "2023-01-30T20:09:07.405Z"
   },
   {
    "duration": 713,
    "start_time": "2023-01-30T20:09:14.012Z"
   },
   {
    "duration": 52,
    "start_time": "2023-01-31T17:49:07.667Z"
   },
   {
    "duration": 1660,
    "start_time": "2023-01-31T17:49:14.278Z"
   },
   {
    "duration": 213,
    "start_time": "2023-01-31T17:49:15.941Z"
   },
   {
    "duration": 10,
    "start_time": "2023-01-31T17:49:16.157Z"
   },
   {
    "duration": 17,
    "start_time": "2023-01-31T17:49:16.169Z"
   },
   {
    "duration": 11,
    "start_time": "2023-01-31T17:49:22.828Z"
   },
   {
    "duration": 13,
    "start_time": "2023-01-31T17:50:37.086Z"
   },
   {
    "duration": 10,
    "start_time": "2023-01-31T17:50:58.277Z"
   },
   {
    "duration": 6,
    "start_time": "2023-01-31T17:52:13.269Z"
   },
   {
    "duration": 11,
    "start_time": "2023-01-31T17:52:44.858Z"
   },
   {
    "duration": 12,
    "start_time": "2023-01-31T17:52:54.066Z"
   },
   {
    "duration": 16,
    "start_time": "2023-01-31T17:53:43.237Z"
   },
   {
    "duration": 2,
    "start_time": "2023-01-31T17:54:15.441Z"
   },
   {
    "duration": 29,
    "start_time": "2023-01-31T17:57:26.016Z"
   },
   {
    "duration": 30,
    "start_time": "2023-01-31T17:57:47.483Z"
   },
   {
    "duration": 1026,
    "start_time": "2023-01-31T17:58:15.273Z"
   },
   {
    "duration": 945,
    "start_time": "2023-01-31T17:58:22.785Z"
   },
   {
    "duration": 5,
    "start_time": "2023-01-31T17:58:37.794Z"
   },
   {
    "duration": 55,
    "start_time": "2023-01-31T17:58:37.801Z"
   },
   {
    "duration": 7,
    "start_time": "2023-01-31T17:58:37.858Z"
   },
   {
    "duration": 40,
    "start_time": "2023-01-31T17:58:37.868Z"
   },
   {
    "duration": 29,
    "start_time": "2023-01-31T17:58:42.021Z"
   },
   {
    "duration": 15,
    "start_time": "2023-01-31T18:00:11.960Z"
   },
   {
    "duration": 40,
    "start_time": "2023-01-31T18:00:17.542Z"
   },
   {
    "duration": 14,
    "start_time": "2023-01-31T18:24:06.292Z"
   },
   {
    "duration": 17,
    "start_time": "2023-01-31T18:28:04.399Z"
   },
   {
    "duration": 34,
    "start_time": "2023-01-31T18:28:15.633Z"
   },
   {
    "duration": 34,
    "start_time": "2023-01-31T18:28:54.103Z"
   },
   {
    "duration": 35,
    "start_time": "2023-01-31T18:29:17.617Z"
   },
   {
    "duration": 22,
    "start_time": "2023-01-31T19:01:52.050Z"
   },
   {
    "duration": 24,
    "start_time": "2023-01-31T19:04:13.979Z"
   },
   {
    "duration": 22,
    "start_time": "2023-01-31T19:08:29.820Z"
   },
   {
    "duration": 26,
    "start_time": "2023-01-31T19:08:58.332Z"
   },
   {
    "duration": 30,
    "start_time": "2023-01-31T19:09:13.596Z"
   },
   {
    "duration": 21,
    "start_time": "2023-01-31T19:09:34.101Z"
   },
   {
    "duration": 31,
    "start_time": "2023-01-31T19:10:14.717Z"
   },
   {
    "duration": 24,
    "start_time": "2023-01-31T19:11:22.107Z"
   },
   {
    "duration": 22,
    "start_time": "2023-01-31T19:16:45.187Z"
   },
   {
    "duration": 34,
    "start_time": "2023-01-31T19:17:20.935Z"
   },
   {
    "duration": 4,
    "start_time": "2023-01-31T19:17:34.891Z"
   },
   {
    "duration": 71,
    "start_time": "2023-01-31T19:17:34.900Z"
   },
   {
    "duration": 15,
    "start_time": "2023-01-31T19:17:34.973Z"
   },
   {
    "duration": 14,
    "start_time": "2023-01-31T19:17:34.990Z"
   },
   {
    "duration": 21,
    "start_time": "2023-01-31T19:17:35.007Z"
   },
   {
    "duration": 2,
    "start_time": "2023-01-31T19:17:35.030Z"
   },
   {
    "duration": 17,
    "start_time": "2023-01-31T19:17:35.034Z"
   },
   {
    "duration": 41,
    "start_time": "2023-01-31T19:17:35.053Z"
   },
   {
    "duration": 134,
    "start_time": "2023-01-31T19:17:35.096Z"
   },
   {
    "duration": 24,
    "start_time": "2023-01-31T19:17:40.642Z"
   },
   {
    "duration": 21,
    "start_time": "2023-01-31T19:17:45.245Z"
   },
   {
    "duration": 12,
    "start_time": "2023-01-31T19:18:14.991Z"
   },
   {
    "duration": 15,
    "start_time": "2023-01-31T19:19:08.588Z"
   },
   {
    "duration": 34,
    "start_time": "2023-01-31T19:19:18.089Z"
   },
   {
    "duration": 96,
    "start_time": "2023-01-31T19:19:28.009Z"
   },
   {
    "duration": 21,
    "start_time": "2023-01-31T19:19:36.035Z"
   },
   {
    "duration": 31,
    "start_time": "2023-01-31T19:21:34.442Z"
   },
   {
    "duration": 19,
    "start_time": "2023-01-31T19:22:01.544Z"
   },
   {
    "duration": 6,
    "start_time": "2023-01-31T19:23:34.622Z"
   },
   {
    "duration": 51,
    "start_time": "2023-01-31T19:23:36.302Z"
   },
   {
    "duration": 9,
    "start_time": "2023-01-31T19:23:41.933Z"
   },
   {
    "duration": 14,
    "start_time": "2023-01-31T19:23:44.325Z"
   },
   {
    "duration": 21,
    "start_time": "2023-01-31T19:23:47.847Z"
   },
   {
    "duration": 14,
    "start_time": "2023-01-31T19:24:04.083Z"
   },
   {
    "duration": 33,
    "start_time": "2023-01-31T19:24:07.349Z"
   },
   {
    "duration": 103,
    "start_time": "2023-01-31T19:24:13.353Z"
   },
   {
    "duration": 22,
    "start_time": "2023-01-31T19:24:17.705Z"
   },
   {
    "duration": 40,
    "start_time": "2023-01-31T19:25:08.605Z"
   },
   {
    "duration": 3,
    "start_time": "2023-01-31T19:25:11.801Z"
   },
   {
    "duration": 41,
    "start_time": "2023-01-31T19:25:14.331Z"
   },
   {
    "duration": 10,
    "start_time": "2023-01-31T19:25:16.945Z"
   },
   {
    "duration": 34,
    "start_time": "2023-01-31T19:25:18.388Z"
   },
   {
    "duration": 89,
    "start_time": "2023-01-31T19:25:31.160Z"
   },
   {
    "duration": 927,
    "start_time": "2023-01-31T19:25:34.206Z"
   },
   {
    "duration": 4,
    "start_time": "2023-01-31T19:30:50.700Z"
   },
   {
    "duration": 58,
    "start_time": "2023-01-31T19:30:50.706Z"
   },
   {
    "duration": 8,
    "start_time": "2023-01-31T19:30:50.765Z"
   },
   {
    "duration": 12,
    "start_time": "2023-01-31T19:30:50.775Z"
   },
   {
    "duration": 41,
    "start_time": "2023-01-31T19:30:50.789Z"
   },
   {
    "duration": 2,
    "start_time": "2023-01-31T19:30:50.832Z"
   },
   {
    "duration": 13,
    "start_time": "2023-01-31T19:30:50.836Z"
   },
   {
    "duration": 21,
    "start_time": "2023-01-31T19:30:50.852Z"
   },
   {
    "duration": 109,
    "start_time": "2023-01-31T19:30:50.875Z"
   },
   {
    "duration": 1849,
    "start_time": "2023-01-31T19:31:03.180Z"
   },
   {
    "duration": 1196,
    "start_time": "2023-01-31T19:35:46.330Z"
   },
   {
    "duration": 4,
    "start_time": "2023-01-31T19:35:48.086Z"
   },
   {
    "duration": 46,
    "start_time": "2023-01-31T19:35:48.092Z"
   },
   {
    "duration": 8,
    "start_time": "2023-01-31T19:35:48.139Z"
   },
   {
    "duration": 12,
    "start_time": "2023-01-31T19:35:48.148Z"
   },
   {
    "duration": 60,
    "start_time": "2023-01-31T19:35:48.161Z"
   },
   {
    "duration": 2,
    "start_time": "2023-01-31T19:35:48.223Z"
   },
   {
    "duration": 13,
    "start_time": "2023-01-31T19:35:48.227Z"
   },
   {
    "duration": 26,
    "start_time": "2023-01-31T19:35:48.241Z"
   },
   {
    "duration": 121,
    "start_time": "2023-01-31T19:35:48.269Z"
   },
   {
    "duration": 1999,
    "start_time": "2023-01-31T19:37:13.025Z"
   },
   {
    "duration": 239,
    "start_time": "2023-01-31T19:37:51.988Z"
   },
   {
    "duration": 259,
    "start_time": "2023-01-31T19:38:11.242Z"
   },
   {
    "duration": 3587,
    "start_time": "2023-01-31T19:38:52.288Z"
   },
   {
    "duration": 410,
    "start_time": "2023-01-31T19:41:02.721Z"
   },
   {
    "duration": 251,
    "start_time": "2023-01-31T19:41:06.593Z"
   },
   {
    "duration": 3812,
    "start_time": "2023-01-31T19:41:24.131Z"
   },
   {
    "duration": 10,
    "start_time": "2023-01-31T19:43:38.140Z"
   },
   {
    "duration": 7,
    "start_time": "2023-01-31T19:43:42.763Z"
   },
   {
    "duration": 11,
    "start_time": "2023-01-31T19:44:03.209Z"
   },
   {
    "duration": 13,
    "start_time": "2023-01-31T19:44:17.201Z"
   },
   {
    "duration": 18,
    "start_time": "2023-01-31T19:44:46.861Z"
   },
   {
    "duration": 14,
    "start_time": "2023-01-31T19:45:09.599Z"
   },
   {
    "duration": 20,
    "start_time": "2023-01-31T19:45:56.333Z"
   },
   {
    "duration": 4,
    "start_time": "2023-01-31T19:47:15.779Z"
   },
   {
    "duration": 24,
    "start_time": "2023-01-31T19:47:31.080Z"
   },
   {
    "duration": 14,
    "start_time": "2023-01-31T19:47:39.352Z"
   },
   {
    "duration": 3,
    "start_time": "2023-01-31T19:48:06.438Z"
   },
   {
    "duration": 14,
    "start_time": "2023-01-31T19:49:29.757Z"
   },
   {
    "duration": 11,
    "start_time": "2023-01-31T19:50:00.731Z"
   },
   {
    "duration": 10,
    "start_time": "2023-01-31T19:50:14.005Z"
   },
   {
    "duration": 26,
    "start_time": "2023-01-31T19:51:45.745Z"
   },
   {
    "duration": 23,
    "start_time": "2023-01-31T19:52:21.967Z"
   },
   {
    "duration": 16,
    "start_time": "2023-01-31T19:52:55.155Z"
   },
   {
    "duration": 20,
    "start_time": "2023-01-31T19:53:07.897Z"
   },
   {
    "duration": 17,
    "start_time": "2023-01-31T19:54:45.400Z"
   },
   {
    "duration": 14,
    "start_time": "2023-01-31T19:55:09.511Z"
   },
   {
    "duration": 23,
    "start_time": "2023-01-31T19:55:50.225Z"
   },
   {
    "duration": 6,
    "start_time": "2023-01-31T19:57:33.695Z"
   },
   {
    "duration": 13,
    "start_time": "2023-01-31T19:58:06.638Z"
   },
   {
    "duration": 14,
    "start_time": "2023-01-31T19:58:21.128Z"
   },
   {
    "duration": 12,
    "start_time": "2023-01-31T19:59:35.856Z"
   },
   {
    "duration": 10,
    "start_time": "2023-01-31T20:00:44.941Z"
   },
   {
    "duration": 6,
    "start_time": "2023-01-31T20:04:17.065Z"
   },
   {
    "duration": 10,
    "start_time": "2023-01-31T20:04:36.633Z"
   },
   {
    "duration": 10,
    "start_time": "2023-01-31T20:05:18.260Z"
   },
   {
    "duration": 60,
    "start_time": "2023-01-31T20:05:33.679Z"
   },
   {
    "duration": 44,
    "start_time": "2023-01-31T20:05:47.337Z"
   },
   {
    "duration": 15,
    "start_time": "2023-01-31T20:05:55.426Z"
   },
   {
    "duration": 12,
    "start_time": "2023-01-31T20:06:28.314Z"
   },
   {
    "duration": 10,
    "start_time": "2023-01-31T20:06:30.946Z"
   },
   {
    "duration": 525,
    "start_time": "2023-01-31T20:06:37.297Z"
   },
   {
    "duration": 4,
    "start_time": "2023-01-31T20:06:47.335Z"
   },
   {
    "duration": 56,
    "start_time": "2023-01-31T20:06:47.342Z"
   },
   {
    "duration": 7,
    "start_time": "2023-01-31T20:06:47.400Z"
   },
   {
    "duration": 13,
    "start_time": "2023-01-31T20:06:47.409Z"
   },
   {
    "duration": 34,
    "start_time": "2023-01-31T20:06:47.425Z"
   },
   {
    "duration": 2,
    "start_time": "2023-01-31T20:06:47.461Z"
   },
   {
    "duration": 11,
    "start_time": "2023-01-31T20:06:47.465Z"
   },
   {
    "duration": 22,
    "start_time": "2023-01-31T20:06:47.477Z"
   },
   {
    "duration": 80,
    "start_time": "2023-01-31T20:06:47.521Z"
   },
   {
    "duration": 1219,
    "start_time": "2023-01-31T20:06:47.603Z"
   },
   {
    "duration": 1609,
    "start_time": "2023-01-31T20:06:48.826Z"
   },
   {
    "duration": 345,
    "start_time": "2023-01-31T20:06:50.523Z"
   },
   {
    "duration": 3542,
    "start_time": "2023-01-31T20:06:50.870Z"
   },
   {
    "duration": 913,
    "start_time": "2023-01-31T20:06:54.416Z"
   },
   {
    "duration": 346,
    "start_time": "2023-01-31T20:06:55.331Z"
   },
   {
    "duration": 3794,
    "start_time": "2023-01-31T20:06:55.679Z"
   },
   {
    "duration": 9,
    "start_time": "2023-01-31T20:06:59.475Z"
   },
   {
    "duration": 15,
    "start_time": "2023-01-31T20:06:59.486Z"
   },
   {
    "duration": 1032,
    "start_time": "2023-01-31T20:06:59.502Z"
   },
   {
    "duration": 928,
    "start_time": "2023-01-31T20:07:00.622Z"
   },
   {
    "duration": 2472,
    "start_time": "2023-01-31T20:07:01.552Z"
   },
   {
    "duration": 9,
    "start_time": "2023-01-31T20:07:04.026Z"
   },
   {
    "duration": 802,
    "start_time": "2023-01-31T20:07:04.037Z"
   },
   {
    "duration": 0,
    "start_time": "2023-01-31T20:07:04.841Z"
   },
   {
    "duration": 0,
    "start_time": "2023-01-31T20:07:04.843Z"
   },
   {
    "duration": 0,
    "start_time": "2023-01-31T20:07:04.844Z"
   },
   {
    "duration": 0,
    "start_time": "2023-01-31T20:07:04.846Z"
   },
   {
    "duration": 0,
    "start_time": "2023-01-31T20:07:04.848Z"
   },
   {
    "duration": 10,
    "start_time": "2023-01-31T20:07:58.582Z"
   },
   {
    "duration": 1118,
    "start_time": "2023-01-31T20:08:00.003Z"
   },
   {
    "duration": 372,
    "start_time": "2023-01-31T20:08:02.801Z"
   },
   {
    "duration": 1001,
    "start_time": "2023-01-31T20:08:11.991Z"
   },
   {
    "duration": 37,
    "start_time": "2023-01-31T20:08:18.576Z"
   },
   {
    "duration": 3,
    "start_time": "2023-02-01T17:16:15.300Z"
   },
   {
    "duration": 2,
    "start_time": "2023-02-01T17:19:26.202Z"
   },
   {
    "duration": 1546,
    "start_time": "2023-02-01T17:19:31.138Z"
   },
   {
    "duration": 89,
    "start_time": "2023-02-01T17:19:32.686Z"
   },
   {
    "duration": 12,
    "start_time": "2023-02-01T17:19:32.777Z"
   },
   {
    "duration": 12,
    "start_time": "2023-02-01T17:19:32.791Z"
   },
   {
    "duration": 2,
    "start_time": "2023-02-01T17:19:32.804Z"
   },
   {
    "duration": 3,
    "start_time": "2023-02-01T17:19:35.551Z"
   },
   {
    "duration": 17,
    "start_time": "2023-02-01T17:19:38.603Z"
   },
   {
    "duration": 16,
    "start_time": "2023-02-01T17:19:51.447Z"
   },
   {
    "duration": 34,
    "start_time": "2023-02-01T17:19:55.914Z"
   },
   {
    "duration": 113,
    "start_time": "2023-02-01T17:20:07.533Z"
   },
   {
    "duration": 1314,
    "start_time": "2023-02-01T17:20:13.857Z"
   },
   {
    "duration": 171,
    "start_time": "2023-02-01T17:20:31.350Z"
   },
   {
    "duration": 4,
    "start_time": "2023-02-01T17:20:42.206Z"
   },
   {
    "duration": 47,
    "start_time": "2023-02-01T17:20:42.212Z"
   },
   {
    "duration": 7,
    "start_time": "2023-02-01T17:20:42.262Z"
   },
   {
    "duration": 17,
    "start_time": "2023-02-01T17:20:42.271Z"
   },
   {
    "duration": 2,
    "start_time": "2023-02-01T17:20:42.290Z"
   },
   {
    "duration": 19,
    "start_time": "2023-02-01T17:20:42.294Z"
   },
   {
    "duration": 10,
    "start_time": "2023-02-01T17:20:42.314Z"
   },
   {
    "duration": 42,
    "start_time": "2023-02-01T17:20:42.355Z"
   },
   {
    "duration": 115,
    "start_time": "2023-02-01T17:20:42.399Z"
   },
   {
    "duration": 1452,
    "start_time": "2023-02-01T17:20:42.516Z"
   },
   {
    "duration": 3281,
    "start_time": "2023-02-01T17:20:43.977Z"
   },
   {
    "duration": 170,
    "start_time": "2023-02-01T17:20:50.031Z"
   },
   {
    "duration": 2998,
    "start_time": "2023-02-01T17:20:53.301Z"
   },
   {
    "duration": 409,
    "start_time": "2023-02-01T17:21:02.850Z"
   },
   {
    "duration": 164,
    "start_time": "2023-02-01T17:21:06.528Z"
   },
   {
    "duration": 3136,
    "start_time": "2023-02-01T17:21:10.298Z"
   },
   {
    "duration": 1307,
    "start_time": "2023-02-01T17:21:28.291Z"
   },
   {
    "duration": 3,
    "start_time": "2023-02-01T17:21:40.712Z"
   },
   {
    "duration": 70,
    "start_time": "2023-02-01T17:21:40.719Z"
   },
   {
    "duration": 8,
    "start_time": "2023-02-01T17:21:40.790Z"
   },
   {
    "duration": 28,
    "start_time": "2023-02-01T17:21:40.800Z"
   },
   {
    "duration": 8,
    "start_time": "2023-02-01T17:21:40.830Z"
   },
   {
    "duration": 20,
    "start_time": "2023-02-01T17:21:44.632Z"
   },
   {
    "duration": 667,
    "start_time": "2023-02-01T17:21:53.995Z"
   },
   {
    "duration": 3365,
    "start_time": "2023-02-01T17:22:09.789Z"
   },
   {
    "duration": 2017,
    "start_time": "2023-02-01T17:22:36.655Z"
   },
   {
    "duration": 11,
    "start_time": "2023-02-01T17:23:05.893Z"
   },
   {
    "duration": 47,
    "start_time": "2023-02-01T17:23:15.984Z"
   },
   {
    "duration": 21,
    "start_time": "2023-02-01T17:23:22.081Z"
   },
   {
    "duration": 3,
    "start_time": "2023-02-01T17:23:42.123Z"
   },
   {
    "duration": 80,
    "start_time": "2023-02-01T17:23:42.130Z"
   },
   {
    "duration": 7,
    "start_time": "2023-02-01T17:23:42.212Z"
   },
   {
    "duration": 45,
    "start_time": "2023-02-01T17:23:42.220Z"
   },
   {
    "duration": 25,
    "start_time": "2023-02-01T17:23:42.266Z"
   },
   {
    "duration": 67,
    "start_time": "2023-02-01T17:23:42.293Z"
   },
   {
    "duration": 51,
    "start_time": "2023-02-01T17:23:42.363Z"
   },
   {
    "duration": 69,
    "start_time": "2023-02-01T17:23:42.415Z"
   },
   {
    "duration": 105,
    "start_time": "2023-02-01T17:23:42.486Z"
   },
   {
    "duration": 347,
    "start_time": "2023-02-01T17:23:45.219Z"
   },
   {
    "duration": 7,
    "start_time": "2023-02-01T17:24:13.466Z"
   },
   {
    "duration": 91,
    "start_time": "2023-02-01T17:24:13.479Z"
   },
   {
    "duration": 10,
    "start_time": "2023-02-01T17:24:13.573Z"
   },
   {
    "duration": 22,
    "start_time": "2023-02-01T17:24:13.584Z"
   },
   {
    "duration": 16,
    "start_time": "2023-02-01T17:24:13.608Z"
   },
   {
    "duration": 75,
    "start_time": "2023-02-01T17:24:13.626Z"
   },
   {
    "duration": 25,
    "start_time": "2023-02-01T17:24:13.702Z"
   },
   {
    "duration": 36,
    "start_time": "2023-02-01T17:24:13.729Z"
   },
   {
    "duration": 89,
    "start_time": "2023-02-01T17:24:13.767Z"
   },
   {
    "duration": 208,
    "start_time": "2023-02-01T17:24:13.857Z"
   },
   {
    "duration": 3492,
    "start_time": "2023-02-01T17:24:14.067Z"
   },
   {
    "duration": 152,
    "start_time": "2023-02-01T17:24:23.869Z"
   },
   {
    "duration": 2843,
    "start_time": "2023-02-01T17:24:27.648Z"
   },
   {
    "duration": 359,
    "start_time": "2023-02-01T17:25:01.407Z"
   },
   {
    "duration": 161,
    "start_time": "2023-02-01T17:25:04.946Z"
   },
   {
    "duration": 3087,
    "start_time": "2023-02-01T17:25:07.453Z"
   },
   {
    "duration": 18,
    "start_time": "2023-02-01T17:25:17.955Z"
   },
   {
    "duration": 1133,
    "start_time": "2023-02-01T17:26:48.890Z"
   },
   {
    "duration": 5,
    "start_time": "2023-02-01T17:27:01.619Z"
   },
   {
    "duration": 53,
    "start_time": "2023-02-01T17:27:01.625Z"
   },
   {
    "duration": 7,
    "start_time": "2023-02-01T17:27:01.680Z"
   },
   {
    "duration": 27,
    "start_time": "2023-02-01T17:27:01.689Z"
   },
   {
    "duration": 19,
    "start_time": "2023-02-01T17:27:01.718Z"
   },
   {
    "duration": 53,
    "start_time": "2023-02-01T17:27:01.738Z"
   },
   {
    "duration": 52,
    "start_time": "2023-02-01T17:27:01.793Z"
   },
   {
    "duration": 48,
    "start_time": "2023-02-01T17:27:01.847Z"
   },
   {
    "duration": 95,
    "start_time": "2023-02-01T17:27:01.896Z"
   },
   {
    "duration": 461,
    "start_time": "2023-02-01T17:27:01.993Z"
   },
   {
    "duration": 3403,
    "start_time": "2023-02-01T17:27:02.458Z"
   },
   {
    "duration": 254,
    "start_time": "2023-02-01T17:27:05.873Z"
   },
   {
    "duration": 3006,
    "start_time": "2023-02-01T17:27:06.129Z"
   },
   {
    "duration": 736,
    "start_time": "2023-02-01T17:27:09.136Z"
   },
   {
    "duration": 274,
    "start_time": "2023-02-01T17:27:09.958Z"
   },
   {
    "duration": 2989,
    "start_time": "2023-02-01T17:27:10.234Z"
   },
   {
    "duration": 11,
    "start_time": "2023-02-01T17:27:13.228Z"
   },
   {
    "duration": 7,
    "start_time": "2023-02-01T17:27:22.112Z"
   },
   {
    "duration": 1498,
    "start_time": "2023-02-01T17:29:43.951Z"
   },
   {
    "duration": 6,
    "start_time": "2023-02-01T17:29:55.295Z"
   },
   {
    "duration": 10,
    "start_time": "2023-02-01T17:30:10.899Z"
   },
   {
    "duration": 9,
    "start_time": "2023-02-01T17:30:13.858Z"
   },
   {
    "duration": 664,
    "start_time": "2023-02-01T17:31:27.697Z"
   },
   {
    "duration": 561,
    "start_time": "2023-02-01T17:31:31.645Z"
   },
   {
    "duration": 2057,
    "start_time": "2023-02-01T17:31:38.654Z"
   },
   {
    "duration": 29,
    "start_time": "2023-02-01T17:54:43.770Z"
   },
   {
    "duration": 42,
    "start_time": "2023-02-01T17:54:59.620Z"
   },
   {
    "duration": 496,
    "start_time": "2023-02-01T17:55:04.595Z"
   },
   {
    "duration": 1880,
    "start_time": "2023-02-01T17:55:14.608Z"
   },
   {
    "duration": 10,
    "start_time": "2023-02-01T17:55:21.840Z"
   },
   {
    "duration": 5,
    "start_time": "2023-02-01T17:55:54.809Z"
   },
   {
    "duration": 11,
    "start_time": "2023-02-01T17:56:01.023Z"
   },
   {
    "duration": 11,
    "start_time": "2023-02-01T17:56:08.568Z"
   },
   {
    "duration": 6,
    "start_time": "2023-02-01T17:56:11.245Z"
   },
   {
    "duration": 16,
    "start_time": "2023-02-01T17:56:16.317Z"
   },
   {
    "duration": 6,
    "start_time": "2023-02-01T17:56:18.656Z"
   },
   {
    "duration": 13,
    "start_time": "2023-02-01T17:56:27.635Z"
   },
   {
    "duration": 6,
    "start_time": "2023-02-01T17:56:30.604Z"
   },
   {
    "duration": 14,
    "start_time": "2023-02-01T17:56:37.705Z"
   },
   {
    "duration": 6,
    "start_time": "2023-02-01T17:56:40.038Z"
   },
   {
    "duration": 11,
    "start_time": "2023-02-01T17:56:48.588Z"
   },
   {
    "duration": 7,
    "start_time": "2023-02-01T17:56:50.379Z"
   },
   {
    "duration": 11,
    "start_time": "2023-02-01T17:56:57.186Z"
   },
   {
    "duration": 6,
    "start_time": "2023-02-01T17:57:00.292Z"
   },
   {
    "duration": 263,
    "start_time": "2023-02-01T17:57:06.494Z"
   },
   {
    "duration": 240,
    "start_time": "2023-02-01T17:57:09.466Z"
   },
   {
    "duration": 854,
    "start_time": "2023-02-01T17:57:12.718Z"
   },
   {
    "duration": 30,
    "start_time": "2023-02-01T17:57:18.850Z"
   },
   {
    "duration": 8,
    "start_time": "2023-02-01T17:57:34.327Z"
   },
   {
    "duration": 121,
    "start_time": "2023-02-01T17:57:36.985Z"
   },
   {
    "duration": 402,
    "start_time": "2023-02-01T18:00:55.067Z"
   },
   {
    "duration": 292,
    "start_time": "2023-02-01T18:01:00.663Z"
   },
   {
    "duration": 4,
    "start_time": "2023-02-01T18:02:52.243Z"
   },
   {
    "duration": 49,
    "start_time": "2023-02-01T18:02:52.249Z"
   },
   {
    "duration": 7,
    "start_time": "2023-02-01T18:02:52.300Z"
   },
   {
    "duration": 10,
    "start_time": "2023-02-01T18:02:52.309Z"
   },
   {
    "duration": 2,
    "start_time": "2023-02-01T18:02:52.321Z"
   },
   {
    "duration": 34,
    "start_time": "2023-02-01T18:02:52.325Z"
   },
   {
    "duration": 13,
    "start_time": "2023-02-01T18:02:52.361Z"
   },
   {
    "duration": 30,
    "start_time": "2023-02-01T18:02:52.376Z"
   },
   {
    "duration": 109,
    "start_time": "2023-02-01T18:02:52.407Z"
   },
   {
    "duration": 3435,
    "start_time": "2023-02-01T18:02:52.519Z"
   },
   {
    "duration": 240,
    "start_time": "2023-02-01T18:02:55.956Z"
   },
   {
    "duration": 2979,
    "start_time": "2023-02-01T18:03:01.663Z"
   },
   {
    "duration": 944,
    "start_time": "2023-02-01T18:06:24.912Z"
   },
   {
    "duration": 2708,
    "start_time": "2023-02-01T18:08:05.760Z"
   },
   {
    "duration": 183,
    "start_time": "2023-02-01T18:09:07.196Z"
   },
   {
    "duration": 2909,
    "start_time": "2023-02-01T18:09:10.472Z"
   },
   {
    "duration": 13,
    "start_time": "2023-02-01T18:13:50.420Z"
   },
   {
    "duration": 9,
    "start_time": "2023-02-01T18:13:54.085Z"
   },
   {
    "duration": 3530,
    "start_time": "2023-02-01T18:15:57.023Z"
   },
   {
    "duration": 510,
    "start_time": "2023-02-01T18:17:04.091Z"
   },
   {
    "duration": 521,
    "start_time": "2023-02-01T18:17:34.580Z"
   },
   {
    "duration": 597,
    "start_time": "2023-02-01T18:18:59.561Z"
   },
   {
    "duration": 560,
    "start_time": "2023-02-01T18:19:09.192Z"
   },
   {
    "duration": 2010,
    "start_time": "2023-02-01T18:20:32.082Z"
   },
   {
    "duration": 16,
    "start_time": "2023-02-01T18:25:18.872Z"
   },
   {
    "duration": 9,
    "start_time": "2023-02-01T18:25:22.757Z"
   },
   {
    "duration": 705,
    "start_time": "2023-02-01T18:25:30.160Z"
   },
   {
    "duration": 2371,
    "start_time": "2023-02-01T18:26:31.495Z"
   },
   {
    "duration": 252,
    "start_time": "2023-02-01T18:27:59.405Z"
   },
   {
    "duration": 3755,
    "start_time": "2023-02-01T18:29:29.219Z"
   },
   {
    "duration": 1845,
    "start_time": "2023-02-01T18:31:43.740Z"
   },
   {
    "duration": 1959,
    "start_time": "2023-02-01T18:32:53.764Z"
   },
   {
    "duration": 1889,
    "start_time": "2023-02-01T18:33:05.096Z"
   },
   {
    "duration": 24,
    "start_time": "2023-02-01T18:41:35.809Z"
   },
   {
    "duration": 1054,
    "start_time": "2023-02-01T18:55:40.508Z"
   },
   {
    "duration": 15,
    "start_time": "2023-02-01T18:58:23.794Z"
   },
   {
    "duration": 7,
    "start_time": "2023-02-01T18:59:02.981Z"
   },
   {
    "duration": 106,
    "start_time": "2023-02-01T18:59:06.896Z"
   },
   {
    "duration": 4,
    "start_time": "2023-02-01T19:05:41.682Z"
   },
   {
    "duration": 48,
    "start_time": "2023-02-01T19:05:41.688Z"
   },
   {
    "duration": 6,
    "start_time": "2023-02-01T19:05:41.738Z"
   },
   {
    "duration": 11,
    "start_time": "2023-02-01T19:05:41.746Z"
   },
   {
    "duration": 2,
    "start_time": "2023-02-01T19:05:41.759Z"
   },
   {
    "duration": 20,
    "start_time": "2023-02-01T19:05:41.763Z"
   },
   {
    "duration": 9,
    "start_time": "2023-02-01T19:05:41.785Z"
   },
   {
    "duration": 31,
    "start_time": "2023-02-01T19:05:41.795Z"
   },
   {
    "duration": 92,
    "start_time": "2023-02-01T19:05:41.827Z"
   },
   {
    "duration": 1533,
    "start_time": "2023-02-01T19:05:41.921Z"
   },
   {
    "duration": 251,
    "start_time": "2023-02-01T19:05:43.456Z"
   },
   {
    "duration": 2755,
    "start_time": "2023-02-01T19:05:43.708Z"
   },
   {
    "duration": 1690,
    "start_time": "2023-02-01T19:05:46.465Z"
   },
   {
    "duration": 249,
    "start_time": "2023-02-01T19:05:48.157Z"
   },
   {
    "duration": 2813,
    "start_time": "2023-02-01T19:05:48.407Z"
   },
   {
    "duration": 14,
    "start_time": "2023-02-01T19:05:51.222Z"
   },
   {
    "duration": 30,
    "start_time": "2023-02-01T19:05:51.238Z"
   },
   {
    "duration": 1889,
    "start_time": "2023-02-01T19:05:51.270Z"
   },
   {
    "duration": 701,
    "start_time": "2023-02-01T19:05:53.161Z"
   },
   {
    "duration": 3493,
    "start_time": "2023-02-01T19:05:53.864Z"
   },
   {
    "duration": 10,
    "start_time": "2023-02-01T19:05:57.359Z"
   },
   {
    "duration": 24,
    "start_time": "2023-02-01T19:05:57.370Z"
   },
   {
    "duration": 963,
    "start_time": "2023-02-01T19:05:57.396Z"
   },
   {
    "duration": 353,
    "start_time": "2023-02-01T19:05:58.361Z"
   },
   {
    "duration": 1914,
    "start_time": "2023-02-01T19:05:58.715Z"
   },
   {
    "duration": 22,
    "start_time": "2023-02-01T19:06:00.631Z"
   },
   {
    "duration": 21,
    "start_time": "2023-02-01T19:06:00.655Z"
   },
   {
    "duration": 144,
    "start_time": "2023-02-01T19:06:00.678Z"
   },
   {
    "duration": 1757,
    "start_time": "2023-02-02T11:05:00.166Z"
   },
   {
    "duration": 265,
    "start_time": "2023-02-02T11:05:01.926Z"
   },
   {
    "duration": 10,
    "start_time": "2023-02-02T11:05:02.192Z"
   },
   {
    "duration": 26,
    "start_time": "2023-02-02T11:05:02.205Z"
   },
   {
    "duration": 25,
    "start_time": "2023-02-02T11:05:02.233Z"
   },
   {
    "duration": 47,
    "start_time": "2023-02-02T11:05:02.260Z"
   },
   {
    "duration": 29,
    "start_time": "2023-02-02T11:05:02.308Z"
   },
   {
    "duration": 91,
    "start_time": "2023-02-02T11:05:02.338Z"
   },
   {
    "duration": 121,
    "start_time": "2023-02-02T11:05:02.431Z"
   },
   {
    "duration": 89,
    "start_time": "2023-02-02T11:05:12.126Z"
   },
   {
    "duration": 193,
    "start_time": "2023-02-02T11:05:59.406Z"
   },
   {
    "duration": 146,
    "start_time": "2023-02-02T11:09:58.909Z"
   },
   {
    "duration": 104,
    "start_time": "2023-02-02T11:10:51.851Z"
   },
   {
    "duration": 79,
    "start_time": "2023-02-02T11:10:58.532Z"
   },
   {
    "duration": 73,
    "start_time": "2023-02-02T11:12:26.908Z"
   },
   {
    "duration": 138,
    "start_time": "2023-02-02T11:12:33.336Z"
   },
   {
    "duration": 79,
    "start_time": "2023-02-02T11:12:40.928Z"
   },
   {
    "duration": 79,
    "start_time": "2023-02-02T11:12:45.095Z"
   },
   {
    "duration": 111,
    "start_time": "2023-02-02T11:12:48.163Z"
   },
   {
    "duration": 73,
    "start_time": "2023-02-02T11:12:52.464Z"
   },
   {
    "duration": 76,
    "start_time": "2023-02-02T11:13:00.766Z"
   },
   {
    "duration": 59,
    "start_time": "2023-02-02T17:34:37.819Z"
   },
   {
    "duration": 10,
    "start_time": "2023-02-02T17:35:41.215Z"
   },
   {
    "duration": 1697,
    "start_time": "2023-02-02T17:36:40.441Z"
   },
   {
    "duration": 94,
    "start_time": "2023-02-02T17:36:42.140Z"
   },
   {
    "duration": 7,
    "start_time": "2023-02-02T17:36:42.235Z"
   },
   {
    "duration": 62,
    "start_time": "2023-02-02T17:36:42.244Z"
   },
   {
    "duration": 10,
    "start_time": "2023-02-02T17:36:42.307Z"
   },
   {
    "duration": 30,
    "start_time": "2023-02-02T17:36:42.319Z"
   },
   {
    "duration": 39,
    "start_time": "2023-02-02T17:36:42.351Z"
   },
   {
    "duration": 73,
    "start_time": "2023-02-02T17:36:42.391Z"
   },
   {
    "duration": 134,
    "start_time": "2023-02-02T17:36:42.466Z"
   },
   {
    "duration": 4348,
    "start_time": "2023-02-02T17:36:42.606Z"
   },
   {
    "duration": 228,
    "start_time": "2023-02-02T17:36:46.960Z"
   },
   {
    "duration": 2811,
    "start_time": "2023-02-02T17:36:47.190Z"
   },
   {
    "duration": 1553,
    "start_time": "2023-02-02T17:36:50.003Z"
   },
   {
    "duration": 261,
    "start_time": "2023-02-02T17:36:51.558Z"
   },
   {
    "duration": 2802,
    "start_time": "2023-02-02T17:36:51.821Z"
   },
   {
    "duration": 11,
    "start_time": "2023-02-02T17:36:54.624Z"
   },
   {
    "duration": 20,
    "start_time": "2023-02-02T17:36:54.637Z"
   },
   {
    "duration": 1900,
    "start_time": "2023-02-02T17:36:54.659Z"
   },
   {
    "duration": 614,
    "start_time": "2023-02-02T17:36:56.561Z"
   },
   {
    "duration": 3559,
    "start_time": "2023-02-02T17:36:57.177Z"
   },
   {
    "duration": 18,
    "start_time": "2023-02-02T17:37:00.738Z"
   },
   {
    "duration": 17,
    "start_time": "2023-02-02T17:37:00.758Z"
   },
   {
    "duration": 1078,
    "start_time": "2023-02-02T17:37:00.777Z"
   },
   {
    "duration": 342,
    "start_time": "2023-02-02T17:37:01.857Z"
   },
   {
    "duration": 1903,
    "start_time": "2023-02-02T17:37:02.201Z"
   },
   {
    "duration": 19,
    "start_time": "2023-02-02T17:37:04.106Z"
   },
   {
    "duration": 12,
    "start_time": "2023-02-02T17:37:04.128Z"
   },
   {
    "duration": 139,
    "start_time": "2023-02-02T17:37:04.153Z"
   },
   {
    "duration": 28,
    "start_time": "2023-02-02T17:39:10.793Z"
   },
   {
    "duration": 2612,
    "start_time": "2023-02-02T17:41:12.743Z"
   },
   {
    "duration": 154,
    "start_time": "2023-02-02T17:41:40.900Z"
   },
   {
    "duration": 2862,
    "start_time": "2023-02-02T17:41:44.947Z"
   },
   {
    "duration": 2209,
    "start_time": "2023-02-02T17:42:38.254Z"
   },
   {
    "duration": 2814,
    "start_time": "2023-02-02T17:43:12.341Z"
   },
   {
    "duration": 4275,
    "start_time": "2023-02-02T17:43:40.283Z"
   },
   {
    "duration": 14,
    "start_time": "2023-02-02T17:43:55.574Z"
   },
   {
    "duration": 25,
    "start_time": "2023-02-02T17:44:38.930Z"
   },
   {
    "duration": 72,
    "start_time": "2023-02-02T17:45:34.716Z"
   },
   {
    "duration": 87,
    "start_time": "2023-02-02T17:46:12.281Z"
   },
   {
    "duration": 11,
    "start_time": "2023-02-02T17:46:34.780Z"
   },
   {
    "duration": 109,
    "start_time": "2023-02-02T17:46:38.819Z"
   },
   {
    "duration": 88,
    "start_time": "2023-02-02T18:50:27.497Z"
   },
   {
    "duration": 13,
    "start_time": "2023-02-02T19:40:04.573Z"
   },
   {
    "duration": 4,
    "start_time": "2023-02-02T19:40:11.188Z"
   },
   {
    "duration": 12,
    "start_time": "2023-02-02T19:40:17.552Z"
   },
   {
    "duration": 11,
    "start_time": "2023-02-02T19:53:29.076Z"
   },
   {
    "duration": 11,
    "start_time": "2023-02-02T19:54:12.468Z"
   },
   {
    "duration": 9,
    "start_time": "2023-02-02T19:59:48.727Z"
   },
   {
    "duration": 12,
    "start_time": "2023-02-02T20:06:05.511Z"
   },
   {
    "duration": 3,
    "start_time": "2023-02-02T20:11:28.917Z"
   },
   {
    "duration": 47,
    "start_time": "2023-02-02T20:11:28.922Z"
   },
   {
    "duration": 7,
    "start_time": "2023-02-02T20:11:28.970Z"
   },
   {
    "duration": 11,
    "start_time": "2023-02-02T20:11:28.979Z"
   },
   {
    "duration": 2,
    "start_time": "2023-02-02T20:11:28.992Z"
   },
   {
    "duration": 20,
    "start_time": "2023-02-02T20:11:28.995Z"
   },
   {
    "duration": 9,
    "start_time": "2023-02-02T20:11:29.016Z"
   },
   {
    "duration": 53,
    "start_time": "2023-02-02T20:11:29.026Z"
   },
   {
    "duration": 94,
    "start_time": "2023-02-02T20:11:29.082Z"
   },
   {
    "duration": 2684,
    "start_time": "2023-02-02T20:11:29.177Z"
   },
   {
    "duration": 320,
    "start_time": "2023-02-02T20:11:31.863Z"
   },
   {
    "duration": 2610,
    "start_time": "2023-02-02T20:11:32.185Z"
   },
   {
    "duration": 2163,
    "start_time": "2023-02-02T20:11:34.796Z"
   },
   {
    "duration": 323,
    "start_time": "2023-02-02T20:11:36.961Z"
   },
   {
    "duration": 2750,
    "start_time": "2023-02-02T20:11:37.286Z"
   },
   {
    "duration": 20,
    "start_time": "2023-02-02T20:11:40.037Z"
   },
   {
    "duration": 9,
    "start_time": "2023-02-02T20:11:40.059Z"
   },
   {
    "duration": 5190,
    "start_time": "2023-02-02T20:11:40.069Z"
   },
   {
    "duration": 676,
    "start_time": "2023-02-02T20:11:45.261Z"
   },
   {
    "duration": 3611,
    "start_time": "2023-02-02T20:11:45.939Z"
   },
   {
    "duration": 12,
    "start_time": "2023-02-02T20:11:49.554Z"
   },
   {
    "duration": 23,
    "start_time": "2023-02-02T20:11:49.568Z"
   },
   {
    "duration": 1961,
    "start_time": "2023-02-02T20:11:49.593Z"
   },
   {
    "duration": 307,
    "start_time": "2023-02-02T20:11:51.561Z"
   },
   {
    "duration": 1862,
    "start_time": "2023-02-02T20:11:51.869Z"
   },
   {
    "duration": 81,
    "start_time": "2023-02-02T20:11:53.732Z"
   },
   {
    "duration": 10,
    "start_time": "2023-02-02T20:11:53.814Z"
   },
   {
    "duration": 112,
    "start_time": "2023-02-02T20:11:53.826Z"
   },
   {
    "duration": 1720,
    "start_time": "2023-02-03T17:44:39.410Z"
   },
   {
    "duration": 100,
    "start_time": "2023-02-03T17:44:41.133Z"
   },
   {
    "duration": 8,
    "start_time": "2023-02-03T17:44:41.235Z"
   },
   {
    "duration": 20,
    "start_time": "2023-02-03T17:44:41.245Z"
   },
   {
    "duration": 2,
    "start_time": "2023-02-03T17:44:41.267Z"
   },
   {
    "duration": 8,
    "start_time": "2023-02-03T17:44:41.270Z"
   },
   {
    "duration": 13,
    "start_time": "2023-02-03T17:44:43.725Z"
   },
   {
    "duration": 24,
    "start_time": "2023-02-03T17:44:47.061Z"
   },
   {
    "duration": 36,
    "start_time": "2023-02-03T17:44:51.754Z"
   },
   {
    "duration": 113,
    "start_time": "2023-02-03T17:44:59.981Z"
   },
   {
    "duration": 2888,
    "start_time": "2023-02-03T17:45:06.002Z"
   },
   {
    "duration": 152,
    "start_time": "2023-02-03T17:45:21.358Z"
   },
   {
    "duration": 3125,
    "start_time": "2023-02-03T17:45:28.085Z"
   },
   {
    "duration": 2176,
    "start_time": "2023-02-03T17:46:07.119Z"
   },
   {
    "duration": 200,
    "start_time": "2023-02-03T17:46:13.846Z"
   },
   {
    "duration": 3240,
    "start_time": "2023-02-03T17:46:18.458Z"
   },
   {
    "duration": 15,
    "start_time": "2023-02-03T17:47:18.167Z"
   },
   {
    "duration": 6,
    "start_time": "2023-02-03T17:47:20.977Z"
   },
   {
    "duration": 3293,
    "start_time": "2023-02-03T17:47:26.597Z"
   },
   {
    "duration": 559,
    "start_time": "2023-02-03T17:47:33.525Z"
   },
   {
    "duration": 3869,
    "start_time": "2023-02-03T17:47:38.137Z"
   },
   {
    "duration": 12,
    "start_time": "2023-02-03T17:48:54.404Z"
   },
   {
    "duration": 6,
    "start_time": "2023-02-03T17:48:56.713Z"
   },
   {
    "duration": 1664,
    "start_time": "2023-02-03T17:49:00.125Z"
   },
   {
    "duration": 243,
    "start_time": "2023-02-03T17:49:09.058Z"
   },
   {
    "duration": 2105,
    "start_time": "2023-02-03T17:49:14.523Z"
   },
   {
    "duration": 83,
    "start_time": "2023-02-03T17:50:44.494Z"
   },
   {
    "duration": 51,
    "start_time": "2023-02-03T17:53:17.530Z"
   },
   {
    "duration": 4,
    "start_time": "2023-02-03T18:26:35.655Z"
   },
   {
    "duration": 57,
    "start_time": "2023-02-03T18:26:35.661Z"
   },
   {
    "duration": 8,
    "start_time": "2023-02-03T18:26:35.720Z"
   },
   {
    "duration": 10,
    "start_time": "2023-02-03T18:26:35.730Z"
   },
   {
    "duration": 2,
    "start_time": "2023-02-03T18:26:35.743Z"
   },
   {
    "duration": 40,
    "start_time": "2023-02-03T18:26:35.747Z"
   },
   {
    "duration": 11,
    "start_time": "2023-02-03T18:26:35.788Z"
   },
   {
    "duration": 24,
    "start_time": "2023-02-03T18:26:35.800Z"
   },
   {
    "duration": 38,
    "start_time": "2023-02-03T18:26:35.826Z"
   },
   {
    "duration": 93,
    "start_time": "2023-02-03T18:26:35.866Z"
   },
   {
    "duration": 1922,
    "start_time": "2023-02-03T18:26:35.961Z"
   },
   {
    "duration": 254,
    "start_time": "2023-02-03T18:26:37.886Z"
   },
   {
    "duration": 3071,
    "start_time": "2023-02-03T18:26:38.142Z"
   },
   {
    "duration": 2669,
    "start_time": "2023-02-03T18:26:41.215Z"
   },
   {
    "duration": 266,
    "start_time": "2023-02-03T18:26:43.887Z"
   },
   {
    "duration": 3065,
    "start_time": "2023-02-03T18:26:44.155Z"
   },
   {
    "duration": 14,
    "start_time": "2023-02-03T18:26:47.222Z"
   },
   {
    "duration": 6,
    "start_time": "2023-02-03T18:26:47.238Z"
   },
   {
    "duration": 3044,
    "start_time": "2023-02-03T18:26:47.246Z"
   },
   {
    "duration": 745,
    "start_time": "2023-02-03T18:26:50.292Z"
   },
   {
    "duration": 3831,
    "start_time": "2023-02-03T18:26:51.039Z"
   },
   {
    "duration": 20,
    "start_time": "2023-02-03T18:26:54.872Z"
   },
   {
    "duration": 6,
    "start_time": "2023-02-03T18:26:54.894Z"
   },
   {
    "duration": 2088,
    "start_time": "2023-02-03T18:26:54.902Z"
   },
   {
    "duration": 424,
    "start_time": "2023-02-03T18:26:56.992Z"
   },
   {
    "duration": 2038,
    "start_time": "2023-02-03T18:26:57.418Z"
   },
   {
    "duration": 96,
    "start_time": "2023-02-03T18:26:59.458Z"
   },
   {
    "duration": 72,
    "start_time": "2023-02-03T18:26:59.556Z"
   },
   {
    "duration": 15,
    "start_time": "2023-02-03T18:26:59.632Z"
   },
   {
    "duration": 178,
    "start_time": "2023-02-03T18:26:59.650Z"
   },
   {
    "duration": 5208,
    "start_time": "2023-02-03T18:43:45.191Z"
   },
   {
    "duration": 5,
    "start_time": "2023-02-03T18:55:55.065Z"
   },
   {
    "duration": 70,
    "start_time": "2023-02-03T18:55:55.072Z"
   },
   {
    "duration": 8,
    "start_time": "2023-02-03T18:55:55.145Z"
   },
   {
    "duration": 14,
    "start_time": "2023-02-03T18:55:55.155Z"
   },
   {
    "duration": 6,
    "start_time": "2023-02-03T18:55:55.171Z"
   },
   {
    "duration": 27,
    "start_time": "2023-02-03T18:55:55.179Z"
   },
   {
    "duration": 12,
    "start_time": "2023-02-03T18:55:55.209Z"
   },
   {
    "duration": 8,
    "start_time": "2023-02-03T18:55:55.223Z"
   },
   {
    "duration": 59,
    "start_time": "2023-02-03T18:55:55.233Z"
   },
   {
    "duration": 100,
    "start_time": "2023-02-03T18:55:55.294Z"
   },
   {
    "duration": 3193,
    "start_time": "2023-02-03T18:55:55.397Z"
   },
   {
    "duration": 285,
    "start_time": "2023-02-03T18:55:58.592Z"
   },
   {
    "duration": 3179,
    "start_time": "2023-02-03T18:55:58.879Z"
   },
   {
    "duration": 2728,
    "start_time": "2023-02-03T18:56:02.060Z"
   },
   {
    "duration": 179,
    "start_time": "2023-02-03T18:56:04.883Z"
   },
   {
    "duration": 3254,
    "start_time": "2023-02-03T18:56:05.064Z"
   },
   {
    "duration": 13,
    "start_time": "2023-02-03T18:56:08.321Z"
   },
   {
    "duration": 8,
    "start_time": "2023-02-03T18:56:08.335Z"
   },
   {
    "duration": 5050,
    "start_time": "2023-02-03T18:56:08.345Z"
   },
   {
    "duration": 749,
    "start_time": "2023-02-03T18:56:13.398Z"
   },
   {
    "duration": 4086,
    "start_time": "2023-02-03T18:56:14.149Z"
   },
   {
    "duration": 15,
    "start_time": "2023-02-03T18:56:18.238Z"
   },
   {
    "duration": 9,
    "start_time": "2023-02-03T18:56:18.255Z"
   },
   {
    "duration": 1705,
    "start_time": "2023-02-03T18:56:18.284Z"
   },
   {
    "duration": 430,
    "start_time": "2023-02-03T18:56:19.991Z"
   },
   {
    "duration": 2177,
    "start_time": "2023-02-03T18:56:20.423Z"
   },
   {
    "duration": 92,
    "start_time": "2023-02-03T18:56:22.602Z"
   },
   {
    "duration": 13,
    "start_time": "2023-02-03T18:56:22.695Z"
   },
   {
    "duration": 142,
    "start_time": "2023-02-03T18:56:22.713Z"
   }
  ],
  "kernelspec": {
   "display_name": "Python 3 (ipykernel)",
   "language": "python",
   "name": "python3"
  },
  "language_info": {
   "codemirror_mode": {
    "name": "ipython",
    "version": 3
   },
   "file_extension": ".py",
   "mimetype": "text/x-python",
   "name": "python",
   "nbconvert_exporter": "python",
   "pygments_lexer": "ipython3",
   "version": "3.10.9"
  },
  "toc": {
   "base_numbering": 1,
   "nav_menu": {},
   "number_sections": true,
   "sideBar": true,
   "skip_h1_title": true,
   "title_cell": "Содержание",
   "title_sidebar": "Contents",
   "toc_cell": true,
   "toc_position": {
    "height": "calc(100% - 180px)",
    "left": "10px",
    "top": "150px",
    "width": "165px"
   },
   "toc_section_display": true,
   "toc_window_display": true
  }
 },
 "nbformat": 4,
 "nbformat_minor": 2
}
